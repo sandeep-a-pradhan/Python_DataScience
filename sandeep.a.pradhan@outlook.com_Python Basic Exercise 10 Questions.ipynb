{
 "cells": [
  {
   "cell_type": "markdown",
   "metadata": {},
   "source": [
    "### Python Basic Programming Exercise"
   ]
  },
  {
   "cell_type": "code",
   "execution_count": null,
   "metadata": {
    "collapsed": true
   },
   "outputs": [],
   "source": [
    "#1: Write a program which will find all such numbers which are divisible by 7 but are not a multiple of 5, between 2000 and 3200 (both included).\n",
    "#The numbers obtained should be printed in a comma-separated sequence on a single line.\n",
    "\n",
    "#Hints: Consider use range(#begin, #end) method\n"
   ]
  },
  {
   "cell_type": "code",
   "execution_count": 6,
   "metadata": {
    "collapsed": true
   },
   "outputs": [],
   "source": [
    "l1=range(2000,3201)\n",
    "\n",
    "for x in l1:\n",
    "    if x%7==0 & x%5!=0:\n",
    "        print (x)"
   ]
  },
  {
   "cell_type": "code",
   "execution_count": 1,
   "metadata": {},
   "outputs": [
    {
     "name": "stdout",
     "output_type": "stream",
     "text": [
      "2002,2009,2016,2023,2037,2044,2051,2058,2072,2079,2086,2093,2107,2114,2121,2128,2142,2149,2156,2163,2177,2184,2191,2198,2212,2219,2226,2233,2247,2254,2261,2268,2282,2289,2296,2303,2317,2324,2331,2338,2352,2359,2366,2373,2387,2394,2401,2408,2422,2429,2436,2443,2457,2464,2471,2478,2492,2499,2506,2513,2527,2534,2541,2548,2562,2569,2576,2583,2597,2604,2611,2618,2632,2639,2646,2653,2667,2674,2681,2688,2702,2709,2716,2723,2737,2744,2751,2758,2772,2779,2786,2793,2807,2814,2821,2828,2842,2849,2856,2863,2877,2884,2891,2898,2912,2919,2926,2933,2947,2954,2961,2968,2982,2989,2996,3003,3017,3024,3031,3038,3052,3059,3066,3073,3087,3094,3101,3108,3122,3129,3136,3143,3157,3164,3171,3178,3192,3199\n"
     ]
    }
   ],
   "source": [
    "print (','.join([str(i) for i in range(2000,3201) if i%7==0 and i%5!=0]))"
   ]
  },
  {
   "cell_type": "code",
   "execution_count": 2,
   "metadata": {
    "collapsed": true
   },
   "outputs": [],
   "source": [
    "#2. Write a program which can compute the factorial of a given numbers. The results should be printed in a comma-separated sequence on a single line. \n",
    "#raw_input() function can be used for getting user(console) input\n",
    "\n",
    "#Suppose the input is supplied to the program:  8  \n",
    "#Then, the output should be:  40320 \n",
    "#Hints: In case of input data being supplied to the question, it should be assumed to be a console input. \n"
   ]
  },
  {
   "cell_type": "code",
   "execution_count": 3,
   "metadata": {},
   "outputs": [
    {
     "name": "stdout",
     "output_type": "stream",
     "text": [
      "Please enter a number: 8\n",
      "Factorial of 8 is 40320\n"
     ]
    }
   ],
   "source": [
    "x = int(input(\"Please enter a number: \"))\n",
    "def fact(x):\n",
    "    f = 1\n",
    "    for i in range(1,x+1):\n",
    "        f *= i\n",
    "    print (\"Factorial of %d is %d\" %(x,f))\n",
    "    \n",
    "if x == 0:\n",
    "    print(\"Factorial of 0 is 1\")\n",
    "else:\n",
    "    fact(x)"
   ]
  },
  {
   "cell_type": "code",
   "execution_count": 4,
   "metadata": {
    "collapsed": true
   },
   "outputs": [],
   "source": [
    "#3. With a given integral number n, write a program to generate a dictionary that contains (i, i*i) such that is an integral number between 1 and n (both included). and then the program should print the dictionary.\n",
    "#Suppose the following input is supplied to the program: 8\n",
    "#Then, the output should be: {1: 1, 2: 4, 3: 9, 4: 16, 5: 25, 6: 36, 7: 49, 8: 64}\n",
    "#Hints: In case of input data being supplied to the question, it should be assumed to be a console input. Consider use dict()\n",
    "\n"
   ]
  },
  {
   "cell_type": "code",
   "execution_count": 5,
   "metadata": {},
   "outputs": [
    {
     "name": "stdout",
     "output_type": "stream",
     "text": [
      "Please enter the number: 8\n",
      "{1: 1, 2: 4, 3: 9, 4: 16, 5: 25, 6: 36, 7: 49, 8: 64}\n"
     ]
    }
   ],
   "source": [
    "x = int(input(\"Please enter the number: \"))\n",
    "d = {}\n",
    "for i in range(1,x+1):\n",
    "    d[i] = i**2\n",
    "print (d)"
   ]
  },
  {
   "cell_type": "code",
   "execution_count": 6,
   "metadata": {
    "collapsed": true
   },
   "outputs": [],
   "source": [
    "#4. Write a program which accepts a sequence of comma-separated numbers from console and generate a list and a tuple which contains every number.\n",
    "#Suppose the following input is supplied to the program: 34,67,55,33,12,98\n",
    "#Then, the output should be: ['34', '67', '55', '33', '12', '98'] ('34', '67', '55', '33', '12', '98')\n",
    "\n",
    "#Hints: In case of input data being supplied to the question, it should be assumed to be a console input. tuple() method can convert list to tuple\n"
   ]
  },
  {
   "cell_type": "code",
   "execution_count": 12,
   "metadata": {},
   "outputs": [
    {
     "name": "stdout",
     "output_type": "stream",
     "text": [
      "Enter the comma separated values: 34,67,55,33,12,98\n",
      "['34', '67', '55', '33', '12', '98']\n",
      "('34', '67', '55', '33', '12', '98')\n"
     ]
    }
   ],
   "source": [
    "x = input(\"Enter the comma separated values: \").split(',')\n",
    "print (x)\n",
    "print (tuple(x))"
   ]
  },
  {
   "cell_type": "code",
   "execution_count": null,
   "metadata": {
    "collapsed": true
   },
   "outputs": [],
   "source": [
    "#5. Define a class which has at least two methods: getString: to get a string from console input and \n",
    "#printString: to print the string in upper case. Also please include simple test function to test the class methods.\n",
    "\n",
    "#Hints: Use __init__ method to construct some parameters\n"
   ]
  },
  {
   "cell_type": "code",
   "execution_count": 16,
   "metadata": {
    "collapsed": true
   },
   "outputs": [],
   "source": [
    "class iostring:\n",
    "    def _init_(self):\n",
    "        self.s=\"\"\n",
    "    def getString(self):\n",
    "        self.s=input()\n",
    "    def printString(self):\n",
    "        print (self.s.upper())"
   ]
  },
  {
   "cell_type": "code",
   "execution_count": 17,
   "metadata": {},
   "outputs": [
    {
     "name": "stdout",
     "output_type": "stream",
     "text": [
      "AnalytixLabs Bangalore\n"
     ]
    }
   ],
   "source": [
    "newobj = iostring()\n",
    "newobj.getString()"
   ]
  },
  {
   "cell_type": "code",
   "execution_count": 18,
   "metadata": {},
   "outputs": [
    {
     "name": "stdout",
     "output_type": "stream",
     "text": [
      "ANALYTIXLABS BANGALORE\n"
     ]
    }
   ],
   "source": [
    "newobj.printString()"
   ]
  },
  {
   "cell_type": "code",
   "execution_count": null,
   "metadata": {
    "collapsed": true
   },
   "outputs": [],
   "source": [
    "#6. Write a program that accepts a comma separated sequence of words as input and prints the words in a comma-separated sequence after sorting them alphabetically.\n",
    "# Suppose the following input is supplied to the program: without,hello,bag,world\n",
    "# Then, the output should be: bag,hello,without,world\n",
    "\n",
    "#Hints: In case of input data being supplied to the question, it should be assumed to be a console input.\n"
   ]
  },
  {
   "cell_type": "code",
   "execution_count": 24,
   "metadata": {},
   "outputs": [
    {
     "name": "stdout",
     "output_type": "stream",
     "text": [
      "Please enter the comma separated words: without,hello,bag,world\n",
      "['bag', 'hello', 'without', 'world']\n"
     ]
    }
   ],
   "source": [
    "x = input(\"Please enter the comma separated words: \").split(',')\n",
    "x.sort()\n",
    "print (x)"
   ]
  },
  {
   "cell_type": "code",
   "execution_count": 1,
   "metadata": {
    "collapsed": true
   },
   "outputs": [],
   "source": [
    "#7. Write a program that accepts a sequence of whitespace separated words as input and prints the words after removing all duplicate words and sorting them alphanumerically.\n",
    "# Suppose the following input is supplied to the program: hello world and practice makes perfect and hello world again\n",
    "# Then, the output should be: again and hello makes perfect practice world\n",
    "\n",
    "#Hints: In case of input data being supplied to the question, it should be assumed to be a console input.\n",
    "#We use set container to remove duplicated data automatically and then use sorted() to sort the data.\n"
   ]
  },
  {
   "cell_type": "code",
   "execution_count": 8,
   "metadata": {},
   "outputs": [
    {
     "name": "stdout",
     "output_type": "stream",
     "text": [
      "Please enter the whitespace separated words: hello world and practice makes perfect and hello world again\n"
     ]
    },
    {
     "data": {
      "text/plain": [
       "{'again', 'and', 'hello', 'makes', 'perfect', 'practice', 'world'}"
      ]
     },
     "execution_count": 8,
     "metadata": {},
     "output_type": "execute_result"
    }
   ],
   "source": [
    "x = input(\"Please enter the whitespace separated words: \").split()\n",
    "x.sort()\n",
    "set(x)"
   ]
  },
  {
   "cell_type": "code",
   "execution_count": 9,
   "metadata": {
    "collapsed": true
   },
   "outputs": [],
   "source": [
    "#8. Write a program that accepts a sentence and calculate the number of upper case letters and lower case letters.\n",
    "#Suppose the following input is supplied to the program: Hello world!\n",
    "#Then, the output should be: UPPER CASE 1 LOWER CASE 9\n",
    "\n",
    "#Hints: In case of input data being supplied to the question, it should be assumed to be a console input.\n"
   ]
  },
  {
   "cell_type": "code",
   "execution_count": 24,
   "metadata": {},
   "outputs": [
    {
     "name": "stdout",
     "output_type": "stream",
     "text": [
      "Please enter the sentence: Hello world!\n",
      "UPPER CASE: 1 LOWER CASE: 9\n"
     ]
    }
   ],
   "source": [
    "x = input(\"Please enter the sentence: \")\n",
    "uc = 0\n",
    "lc = 0\n",
    "for i in x:\n",
    "    if i.islower():\n",
    "        lc += 1\n",
    "    elif i.isupper():\n",
    "        uc += 1\n",
    "    else:\n",
    "        pass\n",
    "print (\"UPPER CASE: %d LOWER CASE: %d\" %(uc,lc))"
   ]
  },
  {
   "cell_type": "code",
   "execution_count": null,
   "metadata": {
    "collapsed": true
   },
   "outputs": [],
   "source": [
    "#9. A website requires the users to input username and password to register. Write a program to check the validity of password\n",
    "#input by users. Following are the criteria for checking the password:\n",
    "#1. At least 1 letter between [a-z]\n",
    "#2. At least 1 number between [0-9]\n",
    "#1. At least 1 letter between [A-Z]\n",
    "#3. At least 1 character from [$#@]\n",
    "#4. Minimum length of transaction password: 6\n",
    "#5. Maximum length of transaction password: 12\n",
    "#Your program should accept a sequence of comma separated passwords and will check them according to the above criteria. \n",
    "#Passwords that match the criteria are to be printed, each separated by a comma.\n",
    "#Example. If the following passwords are given as input to the program: ABd1234@1,a F1#,2w3E*,2We3345\n",
    "#Then, the output of the program should be: ABd1234@1\n",
    "\n",
    "# You can use module called re\n",
    "#Hints: In case of input data being supplied to the question, it should be assumed to be a console input.\n",
    "\n"
   ]
  },
  {
   "cell_type": "code",
   "execution_count": 30,
   "metadata": {},
   "outputs": [
    {
     "name": "stdout",
     "output_type": "stream",
     "text": [
      "Please enter the Passwords: ABd1234@1,a F1#,2w3E*,2We3345\n",
      "ABd1234@1\n",
      "2We3345\n"
     ]
    }
   ],
   "source": [
    "import re\n",
    "x = input(\"Please enter the Passwords: \").split(',')\n",
    "for i in x:\n",
    "    re.search( r'[a-z]+[A-Z]+[0-9]+[$#@]+', i)\n",
    "    if i and (len(i)>6 and len(i)<12):\n",
    "        print (i)"
   ]
  },
  {
   "cell_type": "code",
   "execution_count": null,
   "metadata": {
    "collapsed": true
   },
   "outputs": [],
   "source": [
    "#10. Python has many built-in functions, and if you do not know how to use it, you can read document online or find some books.\n",
    "#But Python has a built-in document function for every built-in functions.\n",
    "#Please write a program to print some Python built-in functions documents, such as abs(), int(), raw_input()\n",
    "#And add document for your own function\n",
    "    \n",
    "#Hints: The built-in document method is __doc__\n"
   ]
  },
  {
   "cell_type": "code",
   "execution_count": 25,
   "metadata": {},
   "outputs": [
    {
     "name": "stdout",
     "output_type": "stream",
     "text": [
      "\n",
      "    Print the DocString for the following function abs(), int(), raw_input()\n",
      "    \n",
      "Return the absolute value of the argument.\n",
      "int(x=0) -> integer\n",
      "int(x, base=10) -> integer\n",
      "\n",
      "Convert a number or string to an integer, or return 0 if no arguments\n",
      "are given.  If x is a number, return x.__int__().  For floating point\n",
      "numbers, this truncates towards zero.\n",
      "\n",
      "If x is not a number or if base is given, then x must be a string,\n",
      "bytes, or bytearray instance representing an integer literal in the\n",
      "given base.  The literal can be preceded by '+' or '-' and be surrounded\n",
      "by whitespace.  The base defaults to 10.  Valid bases are 0 and 2-36.\n",
      "Base 0 means to interpret the base from the string as an integer literal.\n",
      ">>> int('0b100', base=0)\n",
      "4\n",
      "Forward raw_input to frontends\n",
      "\n",
      "        Raises\n",
      "        ------\n",
      "        StdinNotImplentedError if active frontend doesn't support stdin.\n",
      "        \n"
     ]
    }
   ],
   "source": [
    "def func_doc():\n",
    "    '''\n",
    "    Print the DocString for the following function abs(), int(), raw_input()\n",
    "    '''\n",
    "    print (abs.__doc__)\n",
    "    print (int.__doc__)\n",
    "    print (input.__doc__)\n",
    "\n",
    "print (func_doc.__doc__)\n",
    "func_doc()    "
   ]
  },
  {
   "cell_type": "code",
   "execution_count": null,
   "metadata": {
    "collapsed": true
   },
   "outputs": [],
   "source": []
  }
 ],
 "metadata": {
  "kernelspec": {
   "display_name": "Python 3",
   "language": "python",
   "name": "python3"
  },
  "language_info": {
   "codemirror_mode": {
    "name": "ipython",
    "version": 3
   },
   "file_extension": ".py",
   "mimetype": "text/x-python",
   "name": "python",
   "nbconvert_exporter": "python",
   "pygments_lexer": "ipython3",
   "version": "3.6.1"
  }
 },
 "nbformat": 4,
 "nbformat_minor": 2
}
