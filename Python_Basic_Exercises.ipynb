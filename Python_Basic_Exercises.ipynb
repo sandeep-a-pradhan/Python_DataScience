{
 "cells": [
  {
   "cell_type": "markdown",
   "metadata": {
    "collapsed": true
   },
   "source": [
    "## Python Exercises"
   ]
  },
  {
   "cell_type": "raw",
   "metadata": {},
   "source": [
    "1. Write a program which will find all such numbers which are divisible by 7 but are not a multiple of 5, between 2000 and 3200 (both included). The numbers obtained should be printed in a comma-separated sequence on a single line.\n",
    "Hints: Consider use range(#begin, #end) method"
   ]
  },
  {
   "cell_type": "code",
   "execution_count": null,
   "metadata": {
    "collapsed": true
   },
   "outputs": [],
   "source": [
    "temp = [] # Create an empty list\n",
    "for x in range(2000,3201): #Iterated with the help of for loop\n",
    "    if (x%7 == 0): #Applied the logic with the help of IF\n",
    "        if (x%5 !=0): #Another nested if\n",
    "            temp.append(x) #Appended the valid items to the list\n",
    "print temp\n"
   ]
  },
  {
   "cell_type": "raw",
   "metadata": {},
   "source": [
    "2. Write a program which can compute the factorial of a given numbers. The results should be printed in a comma-separated sequence on a single line.\n",
    "Suppose the input is supplied to the program: 8\n",
    "Then, the output should be: 40320\n",
    "Hints: In case of input data being supplied to the question, it should be assumed to be a console input."
   ]
  },
  {
   "cell_type": "code",
   "execution_count": null,
   "metadata": {
    "collapsed": true
   },
   "outputs": [],
   "source": [
    "import math\n",
    "num = raw_input(\"Please enter the number: \")\n",
    "print math.factorial(int(num))"
   ]
  },
  {
   "cell_type": "raw",
   "metadata": {},
   "source": [
    "3. With a given integral number n, write a program to generate a dictionary that contains (i, i*i) such that is an integral number between 1 and n (both included) and then the program should print the dictionary.\n",
    "Suppose the input is supplied to the program: 8\n",
    "Then, the output should be: {1: 1, 2: 4, 3: 9, 4: 16, 5: 25, 6: 36, 7: 49, 8: 64}\n",
    "Hints: In case of input data being supplied to the question, it should be assumed to be a console input. Consider use dict()"
   ]
  },
  {
   "cell_type": "code",
   "execution_count": 1,
   "metadata": {},
   "outputs": [
    {
     "name": "stdout",
     "output_type": "stream",
     "text": [
      "Please insert the value:8\n",
      "{'1': 1, '3': 9, '2': 4, '5': 25, '4': 16, '7': 49, '6': 36, '8': 64}\n"
     ]
    }
   ],
   "source": [
    "x = input(\"Please insert the value:\")\n",
    "y = {}\n",
    "i = 0\n",
    "while i < int(x):\n",
    "    i = i +1\n",
    "    y[str(i)] = i * i\n",
    "print y\n",
    "    \n",
    "    "
   ]
  },
  {
   "cell_type": "raw",
   "metadata": {},
   "source": [
    "4. Write a program which accepts a sequence of comma-separated numbers from console and generate a list and a tuple which contains every number. Suppose the input is supplied to the program: 34, 67, 55, 33, 12, 98\n",
    "Then, the output should be:\n",
    "['34', '67', '55', '33', '12', '98']\n",
    "('34', '67', '55', '33', '12', '98')\n",
    "Hints: In case of input data being supplied to the question, it should be assumed to be a console input. tuple() method can convert list to tuple\n"
   ]
  },
  {
   "cell_type": "code",
   "execution_count": 13,
   "metadata": {},
   "outputs": [
    {
     "name": "stdout",
     "output_type": "stream",
     "text": [
      "Please insert comma separated value:34, 67, 55, 33, 12, 98\n",
      "[34, 67, 55, 33, 12, 98]\n",
      "(34, 67, 55, 33, 12, 98)\n"
     ]
    }
   ],
   "source": [
    "ls = []\n",
    "y = input (\"Please insert comma separated value:\")\n",
    "for x in y:\n",
    "    ls.append(x)\n",
    "print ls\n",
    "print tuple(ls)\n",
    "#print tuple"
   ]
  },
  {
   "cell_type": "raw",
   "metadata": {
    "collapsed": true
   },
   "source": [
    "5. Define a class which has at least two methods: getString: to get a string from console input printString: to print the string in upper case."
   ]
  },
  {
   "cell_type": "code",
   "execution_count": 8,
   "metadata": {},
   "outputs": [
    {
     "ename": "IndentationError",
     "evalue": "expected an indented block (<ipython-input-8-fd00024d40dc>, line 4)",
     "output_type": "error",
     "traceback": [
      "\u001b[1;36m  File \u001b[1;32m\"<ipython-input-8-fd00024d40dc>\"\u001b[1;36m, line \u001b[1;32m4\u001b[0m\n\u001b[1;33m    def getstring(self):\u001b[0m\n\u001b[1;37m      ^\u001b[0m\n\u001b[1;31mIndentationError\u001b[0m\u001b[1;31m:\u001b[0m expected an indented block\n"
     ]
    }
   ],
   "source": [
    "class capital:\n",
    "    def __init__(self):\n",
    "        #self.statement = statement\n",
    "    def getstring(self):\n",
    "        self.x = input(\"Please enter some data: \")\n",
    "        print(self.x)\n",
    "        #printstring(self.x)\n",
    "\n",
    "    def printstring(self, x):\n",
    "        print (self.x.upper())\n",
    "        \n",
    "\n",
    "c = capital()\n",
    "c.getstring()\n",
    "        "
   ]
  },
  {
   "cell_type": "code",
   "execution_count": 1,
   "metadata": {},
   "outputs": [
    {
     "name": "stdout",
     "output_type": "stream",
     "text": [
      "100\n",
      "100\n"
     ]
    }
   ],
   "source": [
    "x = input()\n",
    "print (x)"
   ]
  },
  {
   "cell_type": "raw",
   "metadata": {},
   "source": [
    "6. Write a program that calculates and prints the value according to the given formula:\n",
    "Q = Square root of [(2 * C * D)/H]\n",
    "Following are the fixed values of C and H: C is 50. H is 30.\n",
    "D is the variable whose values should be input to your program in a comma-separated\n",
    "sequence.\n",
    "Let us assume the following comma separated input sequence is given to the program:\n",
    "100,150,180\n",
    "The output of the program should be: 18, 22, 24\n",
    "Hints: If the output received is in decimal form, it should be rounded off to its nearest value\n",
    "(for example, if the output received is 26.0, it should be printed as 26)\n",
    "In case of input data being supplied to the question, it should be assumed to be a console\n",
    "input"
   ]
  },
  {
   "cell_type": "code",
   "execution_count": 23,
   "metadata": {},
   "outputs": [
    {
     "name": "stdout",
     "output_type": "stream",
     "text": [
      "Please enter the comma separated value:100,150,180\n",
      "[18.0, 22.0, 24.0]\n"
     ]
    }
   ],
   "source": [
    "import math as m\n",
    "C, H = 50, 30\n",
    "D = input(\"Please enter the comma separated value:\")\n",
    "ls_f = []\n",
    "for l in D:\n",
    "    ls_f.append(round(m.sqrt((2 * C * l)/H)))\n",
    "print ls_f"
   ]
  },
  {
   "cell_type": "raw",
   "metadata": {},
   "source": [
    "7. Write a program which takes 2 digits, X,Y as input and generates a 2-dimensional array.\n",
    "The element value in the i-th row and j-th column of the array should be i*j.\n",
    "Note: i=0,1.., X-1; j=0,1,¡-Y-1.\n",
    "Suppose the following inputs are given to the program: 3, 5\n",
    "Then, the output of the program should be: [[0, 0, 0, 0, 0], [0, 1, 2, 3, 4], [0, 2, 4, 6, 8]]\n",
    "Hints: In case of input data being supplied to the question, it should be assumed to be a\n",
    "console input in a comma-separated form."
   ]
  },
  {
   "cell_type": "code",
   "execution_count": 68,
   "metadata": {},
   "outputs": [
    {
     "name": "stdout",
     "output_type": "stream",
     "text": [
      "Please enter the Rows and Columns:3,5\n",
      "('Output: ', [[0, 0, 0, 0, 0], [0, 1, 2, 3, 4], [0, 2, 4, 6, 8]])\n"
     ]
    }
   ],
   "source": [
    "w, h = input(\"Please enter the Rows and Columns:\")\n",
    "matrix = [[x*y for x in range(h)] for y in range(w)] \n",
    "\n",
    "for x in range(3):\n",
    "    for y in range(5):\n",
    "        matrix[x][y] = x*y\n",
    "print (\"Output: \", matrix)\n",
    "\n",
    "\n"
   ]
  },
  {
   "cell_type": "raw",
   "metadata": {},
   "source": [
    "8. Write a program that accepts a comma separated sequence of words as input and prints the words in a comma-separated sequence after sorting them alphabetically. Suppose the input is supplied to the program: without, hello, bag, world\n",
    "Then, the output should be: bag, hello, without, world\n",
    "Hints: In case of input data being supplied to the question, it should be assumed to be a\n",
    "console input."
   ]
  },
  {
   "cell_type": "code",
   "execution_count": 4,
   "metadata": {},
   "outputs": [
    {
     "name": "stdout",
     "output_type": "stream",
     "text": [
      "Please enter the values: 'without', 'hello', 'bag', 'world'\n",
      "['bag', 'hello', 'without', 'world']\n"
     ]
    }
   ],
   "source": [
    "#'without', 'hello', 'bag', 'world'\n",
    "ls = list(input(\"Please enter the values: \"))\n",
    "ls.sort()\n",
    "print ls"
   ]
  },
  {
   "cell_type": "raw",
   "metadata": {},
   "source": [
    "9. Write a program that accepts sequence of lines as input and prints the lines after making\n",
    "all characters in the sentence capitalized.\n",
    "Suppose the input is supplied to the program: Hello world\n",
    "Practice makes perfect\n",
    "Then, the output should be: HELLO WORLD\n",
    "PRACTICE MAKES PERFECT\n",
    "Hints: In case of input data being supplied to the question, it should be assumed to be a\n",
    "console input.\n"
   ]
  },
  {
   "cell_type": "code",
   "execution_count": null,
   "metadata": {},
   "outputs": [
    {
     "name": "stdout",
     "output_type": "stream",
     "text": [
      "Enter the statement: Sandeep\n",
      "Enter the statement: Pradhan\n",
      "Enter the statement: \n",
      "SANDEEP\n",
      "PRADHAN\n"
     ]
    }
   ],
   "source": [
    "lines = []\n",
    "while True:\n",
    "    l = raw_input(\"Enter the statement: \")\n",
    "    if l:\n",
    "        lines.append(l.upper())\n",
    "    else:\n",
    "        break;\n",
    "\n",
    "for l in lines:\n",
    "    print(l)"
   ]
  },
  {
   "cell_type": "raw",
   "metadata": {},
   "source": [
    "10. Write a program that accepts a sequence of whitespace separated words as input and prints the words after removing all duplicate words and sorting them alphanumerically. Suppose the input is supplied to the program: hello world and practice makes perfect and hello world again\n",
    "Then, the output should be: again and hello makes perfect practice world\n",
    "Hints: In case of input data being supplied to the question, it should be assumed to be a\n",
    "console input. We use set container to remove duplicated data automatically and then use\n",
    "sorted() to sort the data."
   ]
  },
  {
   "cell_type": "code",
   "execution_count": 15,
   "metadata": {},
   "outputs": [
    {
     "name": "stdout",
     "output_type": "stream",
     "text": [
      "hello world and practice makes perfect and hello world again\n",
      "['again', 'and', 'hello', 'makes', 'perfect', 'practice', 'world']\n"
     ]
    }
   ],
   "source": [
    "l = raw_input()\n",
    "ls = list(set(l.split()))\n",
    "ls.sort()\n",
    "print ls"
   ]
  },
  {
   "cell_type": "raw",
   "metadata": {
    "collapsed": true
   },
   "source": [
    "11. Write a program which accepts a sequence of comma separated 4 digit binary numbers\n",
    "as its input and then check whether they are divisible by 5 or not. The numbers that are\n",
    "divisible by 5 are to be printed in a comma separated sequence.\n",
    "Suppose the input is supplied to the program: 0100,0011,1010,1001\n",
    "Then the output should be: 1010\n",
    "Notes: Assume the data is input by console.\n",
    "Hints: In case of input data being supplied to the question, it should be assumed to be a\n",
    "console input."
   ]
  },
  {
   "cell_type": "code",
   "execution_count": 22,
   "metadata": {},
   "outputs": [
    {
     "name": "stdout",
     "output_type": "stream",
     "text": [
      "Please enter 4 digit binary numbers: 0100,0011,1010,1001\n",
      "['1010']\n"
     ]
    }
   ],
   "source": [
    "l = raw_input(\"Please enter 4 digit binary numbers: \")\n",
    "ls = l.split(',')\n",
    "ls_f = []\n",
    "for x in ls:\n",
    "    if (int(x,2) % 5 == 0):\n",
    "        ls_f.append(x)\n",
    "    else:\n",
    "        pass\n",
    "print ls_f\n"
   ]
  },
  {
   "cell_type": "raw",
   "metadata": {},
   "source": [
    "12. Write a program, which will find all such numbers between 1000 and 3000 (both\n",
    "included) such that each digit of the number is an even number.\n",
    "The numbers obtained should be printed in a comma-separated sequence on a single line.\n",
    "Hints: In case of input data being supplied to the question, it should be assumed to be a\n",
    "console input."
   ]
  },
  {
   "cell_type": "code",
   "execution_count": 24,
   "metadata": {},
   "outputs": [
    {
     "name": "stdout",
     "output_type": "stream",
     "text": [
      "Please enter the range value: 1,4\n",
      "(2,)\n"
     ]
    }
   ],
   "source": [
    "a,b = input(\"Please enter the range value: \")\n",
    "ls = []\n",
    "for x in range(a,b):\n",
    "    if (x % 2 == 0):\n",
    "        ls.append(x)\n",
    "    else:\n",
    "        pass\n",
    "print tuple(ls)"
   ]
  },
  {
   "cell_type": "raw",
   "metadata": {},
   "source": [
    "13. Write a program that accepts a sentence and calculate the number of letters and digits.\n",
    "Suppose the input is supplied to the program: hello world! 123\n",
    "Then, the output should be: LETTERS 10\n",
    "DIGITS 3\n",
    "Hints: In case of input data being supplied to the question, it should be assumed to be a\n",
    "console input."
   ]
  },
  {
   "cell_type": "code",
   "execution_count": 26,
   "metadata": {},
   "outputs": [
    {
     "name": "stdout",
     "output_type": "stream",
     "text": [
      "Please enter the string: hello world! 123\n",
      "10 3\n"
     ]
    }
   ],
   "source": [
    "import string as s\n",
    "l = raw_input(\"Please enter the string: \")\n",
    "letter = 0\n",
    "numbers = 0\n",
    "for x in l:\n",
    "    if (x in list(s.ascii_letters)):\n",
    "        letter += 1\n",
    "    elif (x in list(s.digits)):\n",
    "        numbers += 1\n",
    "    else:\n",
    "        pass\n",
    "print letter, numbers"
   ]
  },
  {
   "cell_type": "raw",
   "metadata": {},
   "source": [
    "14. Write a program that accepts a sentence and calculate the number of upper case letters\n",
    "and lower case letters.\n",
    "Suppose the input is supplied to the program: Hello world!\n",
    "Then, the output should be: UPPER CASE 1\n",
    "LOWER CASE 9\n",
    "Hints: In case of input data being supplied to the question, it should be assumed to be a\n",
    "console input."
   ]
  },
  {
   "cell_type": "markdown",
   "metadata": {},
   "source": [
    "help(string) # on Python 3\n",
    "....\n",
    "DATA\n",
    "    ascii_letters = 'abcdefghijklmnopqrstuvwxyzABCDEFGHIJKLMNOPQRSTUVWXYZ'\n",
    "    ascii_lowercase = 'abcdefghijklmnopqrstuvwxyz'\n",
    "    ascii_uppercase = 'ABCDEFGHIJKLMNOPQRSTUVWXYZ'\n",
    "    digits = '0123456789'\n",
    "    hexdigits = '0123456789abcdefABCDEF'\n",
    "    octdigits = '01234567'\n",
    "    printable = '0123456789abcdefghijklmnopqrstuvwxyzABCDEFGHIJKLMNOPQRSTUVWXYZ!\"#$%&\\'()*+,-./:;<=>?@[\\\\]^_`{|}~ \\t\\n\\r\\x0b\\x0c'\n",
    "    punctuation = '!\"#$%&\\'()*+,-./:;<=>?@[\\\\]^_`{|}~'\n",
    "    whitespace = ' \\t\\n\\r\\x0b\\x0c'"
   ]
  },
  {
   "cell_type": "code",
   "execution_count": 29,
   "metadata": {},
   "outputs": [
    {
     "name": "stdout",
     "output_type": "stream",
     "text": [
      "Please enter the string: Hello world!\n",
      "1 9\n"
     ]
    }
   ],
   "source": [
    "import string as s\n",
    "l = raw_input(\"Please enter the string: \")\n",
    "UPPER = 0\n",
    "LOWER = 0\n",
    "for x in l:\n",
    "    if (x in list(s.ascii_uppercase)):\n",
    "        UPPER += 1\n",
    "    elif (x in list(s.ascii_lowercase)):\n",
    "        LOWER += 1\n",
    "    else:\n",
    "        pass\n",
    "print UPPER, LOWER"
   ]
  },
  {
   "cell_type": "raw",
   "metadata": {},
   "source": [
    "15. Write a program that computes the value of a+aa+aaa+aaaa with a given digit as the\n",
    "value of a.\n",
    "Suppose the input is supplied to the program: 9\n",
    "Then, the output should be: 11106\n",
    "Hints: In case of input data being supplied to the question, it should be assumed to be a\n",
    "console input."
   ]
  },
  {
   "cell_type": "code",
   "execution_count": 31,
   "metadata": {},
   "outputs": [
    {
     "name": "stdout",
     "output_type": "stream",
     "text": [
      "Enter the value of a:9\n",
      "11106\n"
     ]
    }
   ],
   "source": [
    "a = raw_input(\"Enter the value of a:\")\n",
    "b = [a,a*2,a*3,a*4]\n",
    "s = 0\n",
    "for c in b:\n",
    "    s += int(c)\n",
    "print s\n"
   ]
  },
  {
   "cell_type": "raw",
   "metadata": {
    "collapsed": true
   },
   "source": [
    "16. Use a list comprehension to square each odd number in a list. The list is input by a sequence of comma-separated numbers.\n",
    "Suppose the input is supplied to the program: 1,2,3,4,5,6,7,8,9\n",
    "Then, the output should be: 1, 3, 5, 7, 9\n",
    "Hints: In case of input data being supplied to the question, it should be assumed to be a console input."
   ]
  },
  {
   "cell_type": "code",
   "execution_count": 2,
   "metadata": {},
   "outputs": [
    {
     "name": "stdout",
     "output_type": "stream",
     "text": [
      "Enter the sequence of numbers: 1,2,3,4,5,6,7,8,9\n",
      "[1, 9, 25, 49, 81]\n"
     ]
    }
   ],
   "source": [
    "x = input(\"Enter the sequence of numbers: \")\n",
    "ls = [a**2 for a in x if a % 2 != 0]\n",
    "print ls\n"
   ]
  },
  {
   "cell_type": "raw",
   "metadata": {},
   "source": [
    "17. Write a program that computes the net amount of a bank account based a transaction log from console input. The transaction log format is shown as following:\n",
    "D 100\n",
    "W 200\n",
    "--D means deposit while W means withdrawal.\n",
    "Suppose the input is supplied to the program:\n",
    "D 300\n",
    "D 300\n",
    "W 200\n",
    "D 100\n",
    "Then, the output should be: 500\n",
    "Hints: In case of input data being supplied to the question, it should be assumed to be a console input."
   ]
  },
  {
   "cell_type": "code",
   "execution_count": null,
   "metadata": {
    "collapsed": true
   },
   "outputs": [],
   "source": [
    "lines = []       \n",
    "while True:\n",
    "    l = raw_input(\"Enter the transaction: \")\n",
    "    if l[0] == 'D':\n",
    "        #lines.append(str(int(l[2:])))\n",
    "        print ('Deposit: ', l[2:])\n",
    "        print lines\n",
    "    elif l[0] == 'W':\n",
    "        #lines.append(str(int(l[2:]) * -1))\n",
    "        print ('Withdraw', l[2:] -1)\n",
    "    else:\n",
    "        #break\n",
    "        print (\"Invalid transaction\")\n",
    "        \n",
    "'''for l in lines:\n",
    "    print l '''           "
   ]
  },
  {
   "cell_type": "raw",
   "metadata": {},
   "source": [
    "18. A website requires the users to input username and password to register. Write a program to check the validity of password input by users.\n",
    "Following are the criteria for checking the password:\n",
    "1. At least 1 letter between [a-z]\n",
    "2. At least 1 number between [0-9]\n",
    "1. At least 1 letter between [A-Z]\n",
    "3. At least 1 character from [$#@]\n",
    "4. Minimum length of transaction password: 6\n",
    "5. Maximum length of transaction password: 12\n",
    "Your program should accept a sequence of comma separated passwords and will check them according to the above criteria. Passwords that match the criteria are to be printed, each separated by a comma.\n",
    "If the following passwords are given as input to the program: ABd1234@1,a F1#,2w3E*,2We3345\n",
    "Then, the output of the program should be: ABd1234@1\n",
    "Hints: In case of input data being supplied to the question, it should be assumed to be a console input."
   ]
  },
  {
   "cell_type": "code",
   "execution_count": null,
   "metadata": {
    "collapsed": true
   },
   "outputs": [],
   "source": [
    "import string as s\n",
    "l = raw_input(\"Please enter the string: \")\n",
    "type(l)\n",
    "ls = []\n",
    "for x in l:\n",
    "    print x\n",
    "    '''if (x in (s.ascii_uppercase)):\n",
    "        ls.append(x)\n",
    "    else:\n",
    "        pass\n",
    "print ls'''"
   ]
  },
  {
   "cell_type": "code",
   "execution_count": 7,
   "metadata": {},
   "outputs": [
    {
     "data": {
      "text/plain": [
       "['$', '#', '@']"
      ]
     },
     "execution_count": 7,
     "metadata": {},
     "output_type": "execute_result"
    }
   ],
   "source": [
    "& x in list(s.digits) & x in ['$','#','@'] & len(x)< 12 & len(x)>= 6"
   ]
  },
  {
   "cell_type": "raw",
   "metadata": {
    "collapsed": true
   },
   "source": [
    "19. You are required to write a program to sort the (name, age, height) tuples by ascending order where name is string, age and height are numbers. The tuples are input by console.\n",
    "The sort criteria is:\n",
    "1: Sort based on name;\n",
    "2: Then sort based on age;\n",
    "3: Then sort by score.\n",
    "The priority is that name > age > score.\n",
    "If the following tuples are given as input to the program:\n",
    "Tom,19,80\n",
    "John,20,90\n",
    "Jony,17,91\n",
    "Jony,17,93\n",
    "Json,21,85\n",
    "Then, the output of the program should be:\n",
    "[('John', '20', '90'), ('Jony', '17', '91'), ('Jony', '17', '93'), ('Json', '21', '85'), ('Tom', '19', '80')]\n",
    "Hints: In case of input data being supplied to the question, it should be assumed to be a\n",
    "console input. We use itemgetter to enable multiple sort keys."
   ]
  },
  {
   "cell_type": "code",
   "execution_count": null,
   "metadata": {
    "collapsed": true
   },
   "outputs": [],
   "source": [
    "from operator import itemgetter, attrgetter, methodcaller\n",
    "lines = []\n",
    "while True:\n",
    "    l = raw_input(\"Enter the name,age,score: \")\n",
    "    if l:\n",
    "        x,y,z = l.split(',')\n",
    "        lines.append((x,y,z))\n",
    "    else:\n",
    "        break\n",
    "print sorted(lines, key = itemgetter(0,1,2))"
   ]
  },
  {
   "cell_type": "raw",
   "metadata": {},
   "source": [
    "20. Define a class with a generator which can iterate the numbers, which are divisible by 7, between a given range 0 and n.\n",
    "Hints: Consider use yield\n"
   ]
  },
  {
   "cell_type": "code",
   "execution_count": null,
   "metadata": {
    "collapsed": true
   },
   "outputs": [],
   "source": [
    "https://stackoverflow.com/questions/231767/what-does-the-yield-keyword-do-in-python"
   ]
  },
  {
   "cell_type": "raw",
   "metadata": {
    "collapsed": true
   },
   "source": [
    "21. 21. A robot moves in a plane starting from the original point (0,0). The robot can move toward UP, DOWN, LEFT and RIGHT with a given steps. The trace of robot movement is shown as the following:\n",
    "UP 5\n",
    "DOWN 3\n",
    "LEFT 3\n",
    "RIGHT 2\n",
    "¡\n",
    "The numbers after the direction are steps. Please write a program to compute the distance from current position after a sequence of movement and original point. If the distance is a float, then just print the nearest integer.\n",
    "If the following tuples are given as input to the program:\n",
    "UP 5\n",
    "DOWN 3\n",
    "LEFT 3\n",
    "RIGHT 2\n",
    "Then, the output of the program should be: 2\n",
    "Hints: In case of input data being supplied to the question, it should be assumed to be a console input."
   ]
  },
  {
   "cell_type": "raw",
   "metadata": {},
   "source": [
    "\n",
    "22. Write a program to compute the frequency of the words from the input. The output should output after sorting the key alphanumerically.\n",
    "Suppose the input is supplied to the program:\n",
    "New to Python or choosing between Python 2 and Python 3? Read Python 2 or Python 3.\n",
    "Then, the output should be:\n",
    "2:2\n",
    "3.:1\n",
    "3?:1\n",
    "New:1\n",
    "Python:5\n",
    "Read:1\n",
    "and:1\n",
    "between:1\n",
    "choosing:1\n",
    "or:2\n",
    "to:1\n",
    "Hints: In case of input data being supplied to the question, it should be assumed to be a console input."
   ]
  },
  {
   "cell_type": "code",
   "execution_count": 20,
   "metadata": {},
   "outputs": [
    {
     "name": "stdout",
     "output_type": "stream",
     "text": [
      "Please enter the sentence: New to Python or choosing between Python 2 and Python 3? Read Python 2 or Python 3.\n",
      "2 : 2\n",
      "3. : 1\n",
      "3? : 1\n",
      "New : 1\n",
      "Python : 5\n",
      "Read : 1\n",
      "and : 1\n",
      "between : 1\n",
      "choosing : 1\n",
      "or : 2\n",
      "to : 1\n"
     ]
    }
   ],
   "source": [
    "x = input(\"Please enter the sentence: \")\n",
    "ls = x.split( )\n",
    "s = list(set(ls))\n",
    "s.sort()\n",
    "for l in s:\n",
    "    print (l,':', ls.count(l) )\n",
    "    \n"
   ]
  },
  {
   "cell_type": "raw",
   "metadata": {},
   "source": [
    "23. Write a method which can calculate square value of number\n",
    "Hints: Using the ** operator"
   ]
  },
  {
   "cell_type": "code",
   "execution_count": 25,
   "metadata": {},
   "outputs": [
    {
     "name": "stdout",
     "output_type": "stream",
     "text": [
      "Please enter the number: 6\n",
      "Square of 6 is 36\n"
     ]
    }
   ],
   "source": [
    "class square_number:\n",
    "    def square_it(self):\n",
    "        self.x = int(input(\"Please enter the number: \"))\n",
    "        print (\"Square of\", self.x ,\"is\", self.x ** 2)\n",
    "\n",
    "s = square_number()\n",
    "s.square_it()"
   ]
  },
  {
   "cell_type": "raw",
   "metadata": {},
   "source": [
    "24. Python has many built-in functions, and if you do not know how to use it, you can read document online or find some books. But Python has a built-in document function for every\n",
    "built-in functions. Please write a program to print some Python built-in functions documents, such as abs(), int(), raw_input() And add document for your own function\n",
    "Hints: The built-in document method is __doc__"
   ]
  },
  {
   "cell_type": "code",
   "execution_count": 41,
   "metadata": {},
   "outputs": [
    {
     "name": "stdout",
     "output_type": "stream",
     "text": [
      "abs()--  Return the absolute value of the argument. /n\n",
      "int()--  int(x=0) -> integer\n",
      "int(x, base=10) -> integer\n",
      "\n",
      "Convert a number or string to an integer, or return 0 if no arguments\n",
      "are given.  If x is a number, return x.__int__().  For floating point\n",
      "numbers, this truncates towards zero.\n",
      "\n",
      "If x is not a number or if base is given, then x must be a string,\n",
      "bytes, or bytearray instance representing an integer literal in the\n",
      "given base.  The literal can be preceded by '+' or '-' and be surrounded\n",
      "by whitespace.  The base defaults to 10.  Valid bases are 0 and 2-36.\n",
      "Base 0 means to interpret the base from the string as an integer literal.\n",
      ">>> int('0b100', base=0)\n",
      "4\n",
      "\n",
      "input()--  Forward raw_input to frontends\n",
      "\n",
      "        Raises\n",
      "        ------\n",
      "        StdinNotImplentedError if active frontend doesn't support stdin.\n",
      "        \n",
      "\n",
      "doc_string-- This is a class which displays the documents for built in built-in functions like abs(), int(), input()\n"
     ]
    }
   ],
   "source": [
    "class doc_string:\n",
    "\n",
    "    'This is a class which displays the documents for built in built-in functions like abs(), int(), input()'\n",
    "    \n",
    "    def documents(self):\n",
    "        print ('abs()-- ', abs.__doc__ , '/n')\n",
    "        print ('int()-- ',int.__doc__ + '\\n')\n",
    "        print ('input()-- ',input.__doc__ + '\\n')\n",
    "        print ('doc_string--', doc_string.__doc__)\n",
    "        \n",
    "d = doc_string()\n",
    "d.documents()"
   ]
  },
  {
   "cell_type": "raw",
   "metadata": {},
   "source": [
    "25. Define a class, which have a class parameter and have a same instance parameter.\n",
    "Hints: Define a instance parameter, need add it in __init__ method\n",
    "You can init a object with construct parameter or set the value later"
   ]
  },
  {
   "cell_type": "code",
   "execution_count": 4,
   "metadata": {},
   "outputs": [
    {
     "name": "stdout",
     "output_type": "stream",
     "text": [
      "The object was intantiated with this name:  Nikhil\n",
      "The object was intantiated with this name:  Sandeep\n"
     ]
    }
   ],
   "source": [
    "class name:\n",
    "    \n",
    "    def __init__(self,name):\n",
    "        self.name = name\n",
    "    def display(self):\n",
    "        print (\"The object was intantiated with this name: \", self.name)\n",
    "        \n",
    "n = name(\"Nikhil\")\n",
    "s = name(\"Sandeep\")\n",
    "n.display()\n",
    "s.display()\n",
    "        "
   ]
  },
  {
   "cell_type": "raw",
   "metadata": {},
   "source": [
    "26. Define a function which can compute the sum of two numbers.\n",
    "Hints: Define a function with two numbers as arguments. You can compute the sum in the function and return the value."
   ]
  },
  {
   "cell_type": "code",
   "execution_count": 17,
   "metadata": {},
   "outputs": [
    {
     "name": "stdout",
     "output_type": "stream",
     "text": [
      "sum:  3\n"
     ]
    }
   ],
   "source": [
    "def sumnum(num1,num2):\n",
    "    #num1,num2 = input(\"Please enter num1,num2: \").split(',')\n",
    "    print (\"sum: \", int(num1)+int(num2))\n",
    "\n",
    "sumnum(1,2)\n",
    "    "
   ]
  },
  {
   "cell_type": "code",
   "execution_count": 18,
   "metadata": {},
   "outputs": [
    {
     "name": "stdout",
     "output_type": "stream",
     "text": [
      "Sum : 3\n"
     ]
    }
   ],
   "source": [
    "class calculate:\n",
    "    def sumnum(self,num1,num2):\n",
    "        self.num1 = num1\n",
    "        self.num2 = num2\n",
    "        print (\"Sum :\", self.num1 + self.num2)\n",
    "\n",
    "c = calculate()\n",
    "c.sumnum(1,2)"
   ]
  },
  {
   "cell_type": "code",
   "execution_count": 19,
   "metadata": {},
   "outputs": [
    {
     "name": "stdout",
     "output_type": "stream",
     "text": [
      "Sum : 3\n"
     ]
    }
   ],
   "source": [
    "class calculate:\n",
    "    def __init__(self,num1,num2):\n",
    "        self.num1 = num1\n",
    "        self.num2 = num2\n",
    "        print (\"Sum :\", self.num1 + self.num2)\n",
    "\n",
    "c = calculate(1,2)\n"
   ]
  },
  {
   "cell_type": "raw",
   "metadata": {},
   "source": [
    "27. Define a function that can convert a integer into a string and print it in console.\n",
    "Hints: Use str() to convert a number to string."
   ]
  },
  {
   "cell_type": "code",
   "execution_count": 20,
   "metadata": {},
   "outputs": [
    {
     "name": "stdout",
     "output_type": "stream",
     "text": [
      "Number converted to string: 5 <class 'str'>\n"
     ]
    }
   ],
   "source": [
    "class conversion:\n",
    "    def __init__(self,num):\n",
    "        self.num = str(num)\n",
    "        print (\"Number converted to string:\", self.num,type(self.num))\n",
    "\n",
    "c = conversion(5)"
   ]
  },
  {
   "cell_type": "raw",
   "metadata": {},
   "source": [
    "28. Define a function that can convert a integer into a string and print it in console.\n",
    "Hints: Use str() to convert a number to string.-- Duplicate question. Same as question 28"
   ]
  },
  {
   "cell_type": "raw",
   "metadata": {},
   "source": [
    "29. Define a function that can receive two integral numbers in string form and compute their sum and then print it in console.\n",
    "Hints: Use int() to convert a string to integer."
   ]
  },
  {
   "cell_type": "code",
   "execution_count": 55,
   "metadata": {},
   "outputs": [
    {
     "name": "stdout",
     "output_type": "stream",
     "text": [
      "Sum of the numbers: 5\n"
     ]
    }
   ],
   "source": [
    "class conversion:\n",
    "    def __init__(self,num1,num2):\n",
    "        self.num1 = int(num1)\n",
    "        self.num2 = int(num2)\n",
    "        print (\"Sum of the numbers:\", self.num1 + self.num2)\n",
    "\n",
    "c = conversion('2','3')"
   ]
  },
  {
   "cell_type": "raw",
   "metadata": {},
   "source": [
    "30. Define a function that can accept two strings as input and concatenate them and then print it in console.\n",
    "Hints: Use + to concatenate the strings"
   ]
  },
  {
   "cell_type": "code",
   "execution_count": 59,
   "metadata": {},
   "outputs": [
    {
     "name": "stdout",
     "output_type": "stream",
     "text": [
      "Concateneted Strings:  Sandeep Pradhan\n"
     ]
    }
   ],
   "source": [
    "class concatenate:\n",
    "    def __init__(self, str1,str2):\n",
    "        self.str1 = str1\n",
    "        self.str2 = str2\n",
    "        print (\"Concateneted Strings: \",str1 + \" \" + str2)\n",
    "\n",
    "c = concatenate('Sandeep', 'Pradhan')"
   ]
  },
  {
   "cell_type": "raw",
   "metadata": {},
   "source": [
    "32. Define a function that can accept an integer number as input and print the \"It is an even number\" if the number is even, otherwise print \"It is an odd number\".\n",
    "Hints: Use % operator to check if a number is even or odd."
   ]
  },
  {
   "cell_type": "code",
   "execution_count": 64,
   "metadata": {},
   "outputs": [
    {
     "name": "stdout",
     "output_type": "stream",
     "text": [
      "4 - It is an even number\n"
     ]
    }
   ],
   "source": [
    "class evenodd:\n",
    "    def __init__(self,num):\n",
    "        self.num = num\n",
    "        if self.num%2 == 0:\n",
    "            print (self.num, \"- It is an even number\")\n",
    "        else:\n",
    "            print (self.num, \"- It is an odd number\")\n",
    "            \n",
    "c = evenodd(4)"
   ]
  },
  {
   "cell_type": "raw",
   "metadata": {},
   "source": [
    "33. Define a function which can print a dictionary where the keys are numbers between 1 and 3 (both included) and the values are square of keys.\n",
    "Hints: Use dict[key]=value pattern to put entry into a dictionary.\n",
    "\n",
    "Use ** operator to get power of a number."
   ]
  },
  {
   "cell_type": "code",
   "execution_count": 70,
   "metadata": {},
   "outputs": [
    {
     "name": "stdout",
     "output_type": "stream",
     "text": [
      "{1: 1, 2: 4, 3: 9}\n"
     ]
    }
   ],
   "source": [
    "def dictsquare():\n",
    "    dict = {}\n",
    "    for i in list(range(1,4)):\n",
    "        dict[i] = i ** 2\n",
    "    print (dict)\n",
    "\n",
    "dictsquare()\n",
    "    "
   ]
  },
  {
   "cell_type": "raw",
   "metadata": {},
   "source": [
    "34. Define a function which can print a dictionary where the keys are numbers between 1 and 20 (both included) and the values are square of keys.\n",
    "Hints: Use dict[key]=value pattern to put entry into a dictionary.\n",
    "Use ** operator to get power of a number. Use range() for loops."
   ]
  },
  {
   "cell_type": "code",
   "execution_count": 71,
   "metadata": {},
   "outputs": [
    {
     "name": "stdout",
     "output_type": "stream",
     "text": [
      "{1: 1, 2: 4, 3: 9, 4: 16, 5: 25, 6: 36, 7: 49, 8: 64, 9: 81, 10: 100, 11: 121, 12: 144, 13: 169, 14: 196, 15: 225, 16: 256, 17: 289, 18: 324, 19: 361, 20: 400}\n",
      "dict_keys([1, 2, 3, 4, 5, 6, 7, 8, 9, 10, 11, 12, 13, 14, 15, 16, 17, 18, 19, 20])\n"
     ]
    }
   ],
   "source": [
    "def dictsquare(num1,num3):\n",
    "    dict = {}\n",
    "    for i in list(range(num1,num3)):\n",
    "        dict[i] = i ** 2\n",
    "    print (dict)\n",
    "    print (dict.keys())\n",
    "\n",
    "dictsquare(1,21)\n",
    "    "
   ]
  },
  {
   "cell_type": "raw",
   "metadata": {},
   "source": [
    "35. Define a function which can generate a dictionary where the keys are numbers between 1 and 20 (both included) and the values are square of keys. The function should just print the values only.\n",
    "Hints: Use dict[key]=value pattern to put entry into a dictionary. Use ** operator to get power of a number. Use range() for loops. Use keys() to iterate keys in the dictionary. Also we can use item() to get key/value pairs."
   ]
  },
  {
   "cell_type": "code",
   "execution_count": 72,
   "metadata": {},
   "outputs": [
    {
     "name": "stdout",
     "output_type": "stream",
     "text": [
      "1\n",
      "4\n",
      "9\n",
      "16\n",
      "25\n",
      "36\n",
      "49\n",
      "64\n",
      "81\n",
      "100\n",
      "121\n",
      "144\n",
      "169\n",
      "196\n",
      "225\n",
      "256\n",
      "289\n",
      "324\n",
      "361\n",
      "400\n"
     ]
    }
   ],
   "source": [
    "def dictsquares(num1,num2):\n",
    "    dict = {}\n",
    "    for i in list(range(num1,num2)):\n",
    "        dict[i] = i ** 2\n",
    "    for item in dict.keys():\n",
    "        print (dict[item])\n",
    "\n",
    "dictsquares(1,21)"
   ]
  },
  {
   "cell_type": "raw",
   "metadata": {},
   "source": [
    "36. Define a function which can generate a dictionary where the keys are numbers between 1 and 20 (both included) and the values are square of keys. The function should just print the keys only.\n",
    "Hints: Use dict[key]=value pattern to put entry into a dictionary. Use ** operator to get power of a number. Use range() for loops. Use keys() to iterate keys in the dictionary. Also we can use item() to get key/value pairs."
   ]
  },
  {
   "cell_type": "code",
   "execution_count": 79,
   "metadata": {},
   "outputs": [
    {
     "name": "stdout",
     "output_type": "stream",
     "text": [
      "{1: 1, 2: 4, 3: 9, 4: 16, 5: 25, 6: 36, 7: 49, 8: 64, 9: 81, 10: 100, 11: 121, 12: 144, 13: 169, 14: 196, 15: 225, 16: 256, 17: 289, 18: 324, 19: 361, 20: 400}\n",
      "dict_keys([1, 2, 3, 4, 5, 6, 7, 8, 9, 10, 11, 12, 13, 14, 15, 16, 17, 18, 19, 20])\n"
     ]
    }
   ],
   "source": [
    "def dictsquares(num1,num2):\n",
    "    dict = {}\n",
    "    for i in list(range(num1,num2)):\n",
    "        dict[i] = i ** 2\n",
    "    for item in dict.keys():\n",
    "        print (item)\n",
    "dictsquare(1,21)"
   ]
  },
  {
   "cell_type": "raw",
   "metadata": {},
   "source": [
    "37. Define a function which can generate and print a list where the values are square of numbers between 1 and 20 (both included).\n",
    "Hints: Use ** operator to get power of a number. Use range() for loops. Use list.append() to add values into a list."
   ]
  },
  {
   "cell_type": "code",
   "execution_count": 81,
   "metadata": {},
   "outputs": [
    {
     "name": "stdout",
     "output_type": "stream",
     "text": [
      "[1, 4, 9, 16, 25, 36, 49, 64, 81, 100, 121, 144, 169, 196, 225, 256, 289, 324, 361, 400]\n"
     ]
    }
   ],
   "source": [
    "def listsquares(num1,num2):\n",
    "    ls = []\n",
    "    for i in list(range(num1,num2)):\n",
    "        ls.append(i**2)\n",
    "    print (ls)\n",
    "    \n",
    "listsquares(1,21)"
   ]
  },
  {
   "cell_type": "raw",
   "metadata": {},
   "source": [
    "38. Define a function which can generate a list where the values are square of numbers between 1 and 20 (both included). Then the function needs to print the first 5 elements in the list.\n",
    "Hints: Use ** operator to get power of a number. Use range() for loops. Use list.append() to add values into a list. Use [n1:n2] to slice a list"
   ]
  },
  {
   "cell_type": "code",
   "execution_count": 25,
   "metadata": {},
   "outputs": [
    {
     "name": "stdout",
     "output_type": "stream",
     "text": [
      "[1, 4, 9, 16, 25]\n"
     ]
    }
   ],
   "source": [
    "def squarenum(num1,num2):\n",
    "    #ls = [(i ** 2) for i in list(range(num1,num2))] #list comprehenion method to perform the below task\n",
    "    ls = []\n",
    "    for i in list(range(num1,num2)):\n",
    "        ls.append(i**2)\n",
    "    print (ls[0:5])\n",
    "\n",
    "squarenum(1,21)"
   ]
  },
  {
   "cell_type": "raw",
   "metadata": {},
   "source": [
    "39. Define a function which can generate a list where the values are square of numbers between 1 and 20 (both included). Then the function needs to print the last 5 elements in\n",
    "the list.\n",
    "Hints: Use ** operator to get power of a number. Use range() for loops. Use list.append() to\n",
    "add values into a list. Use [n1:n2] to slice a list"
   ]
  },
  {
   "cell_type": "code",
   "execution_count": 29,
   "metadata": {},
   "outputs": [
    {
     "name": "stdout",
     "output_type": "stream",
     "text": [
      "[256, 289, 324, 361, 400]\n"
     ]
    }
   ],
   "source": [
    "def squarenum(num1,num2):\n",
    "    ls = []\n",
    "    for i in list(range(num1,num2)):\n",
    "        ls.append(i ** 2)\n",
    "    print (ls[-5:])\n",
    "\n",
    "squarenum(1,21)"
   ]
  },
  {
   "cell_type": "raw",
   "metadata": {},
   "source": [
    "40. Define a function which can generate a list where the values are square of numbers between 1 and 20 (both included). Then the function needs to print all values except the\n",
    "first 5 elements in the list.\n",
    "Hints: Use ** operator to get power of a number. Use range() for loops. Use list.append() to\n",
    "add values into a list. Use [n1:n2] to slice a list"
   ]
  },
  {
   "cell_type": "code",
   "execution_count": 33,
   "metadata": {},
   "outputs": [
    {
     "name": "stdout",
     "output_type": "stream",
     "text": [
      "[36, 49, 64, 81, 100, 121, 144, 169, 196, 225, 256, 289, 324, 361, 400]\n"
     ]
    }
   ],
   "source": [
    "def squarenum(num1,num2):\n",
    "    ls = []\n",
    "    for i in list(range(num1,num2)):\n",
    "        ls.append( i ** 2)\n",
    "    print (ls[5:])\n",
    "\n",
    "squarenum(1,21)"
   ]
  },
  {
   "cell_type": "raw",
   "metadata": {},
   "source": [
    "41. Define a function which can generate and print a tuple where the value are square of numbers between 1 and 20 (both included).\n",
    "Hints: Use ** operator to get power of a number. Use range() for loops. Use list.append() to\n",
    "add values into a list. Use tuple() to get a tuple from a list."
   ]
  },
  {
   "cell_type": "code",
   "execution_count": 35,
   "metadata": {},
   "outputs": [
    {
     "name": "stdout",
     "output_type": "stream",
     "text": [
      "(1, 4, 9, 16, 25, 36, 49, 64, 81, 100, 121, 144, 169, 196, 225, 256, 289, 324, 361, 400)\n"
     ]
    }
   ],
   "source": [
    "def squarenum(num1,num2):\n",
    "    ls = []\n",
    "    for i in list(range(num1,num2)):\n",
    "        ls.append( i ** 2)\n",
    "    print (tuple(ls))\n",
    "\n",
    "squarenum(1,21)"
   ]
  },
  {
   "cell_type": "raw",
   "metadata": {},
   "source": [
    "42. With a given tuple (1,2,3,4,5,6,7,8,9,10), write a program to print the first half values in one line and the last half values in one line.\n",
    "Hints: Use [n1:n2] notation to get a slice from a tuple."
   ]
  },
  {
   "cell_type": "code",
   "execution_count": 51,
   "metadata": {},
   "outputs": [
    {
     "name": "stdout",
     "output_type": "stream",
     "text": [
      "(1, 2, 3, 4, 5) \n",
      " (6, 7, 8, 9, 10)\n"
     ]
    }
   ],
   "source": [
    "x =  (1,2,3,4,5,6,7,8,9,10)\n",
    "\n",
    "print ( x[0:int(len(x)/2)],'\\n',x[int(len(x)/2):])\n"
   ]
  },
  {
   "cell_type": "raw",
   "metadata": {},
   "source": [
    "43. Write a program to generate and print another tuple whose values are even numbers in the given tuple (1,2,3,4,5,6,7,8,9,10).\n",
    "Hints: Use \"for\" to iterate the tuple. Use tuple() to generate a tuple from a list."
   ]
  },
  {
   "cell_type": "code",
   "execution_count": 53,
   "metadata": {},
   "outputs": [
    {
     "name": "stdout",
     "output_type": "stream",
     "text": [
      "(2, 4, 6, 8, 10)\n"
     ]
    }
   ],
   "source": [
    "x = (1,2,3,4,5,6,7,8,9,10)\n",
    "y = []\n",
    "for i in x:\n",
    "    if i%2 == 0:\n",
    "        y.append(i)\n",
    "print(tuple(y))\n",
    "    "
   ]
  },
  {
   "cell_type": "raw",
   "metadata": {},
   "source": [
    "44. Write a program which accepts a string as input to print \"Yes\" if the string is \"yes\" or \"YES\" or \"Yes\", otherwise print \"No\".\n",
    "Hints: Use if statement to judge condition.\n"
   ]
  },
  {
   "cell_type": "code",
   "execution_count": 55,
   "metadata": {},
   "outputs": [
    {
     "name": "stdout",
     "output_type": "stream",
     "text": [
      "Please enter the string: yes\n",
      "Yes\n"
     ]
    }
   ],
   "source": [
    "x = input(\"Please enter the string: \")\n",
    "if (x == \"Yes\" or (x == \"YES\") or (x == \"yes\")):\n",
    "    print(\"Yes\")\n",
    "else:\n",
    "    print (\"No\")"
   ]
  },
  {
   "cell_type": "raw",
   "metadata": {},
   "source": [
    "45. Write a program which can filter even numbers in a list by using filter function. The list\n",
    "is: [1,2,3,4,5,6,7,8,9,10].\n",
    "Hints: use filter() to filter some elements in a list. Use lambda to define anonymous\n",
    "functions."
   ]
  },
  {
   "cell_type": "code",
   "execution_count": 67,
   "metadata": {},
   "outputs": [
    {
     "data": {
      "text/plain": [
       "[2, 4, 6, 8, 10]"
      ]
     },
     "execution_count": 67,
     "metadata": {},
     "output_type": "execute_result"
    }
   ],
   "source": [
    "x = list(range(1,11))\n",
    "list(filter(lambda i: i % 2 == 0, x))"
   ]
  },
  {
   "cell_type": "raw",
   "metadata": {},
   "source": [
    "46. Write a program which can map() to make a list whose elements are square of elementsin [1,2,3,4,5,6,7,8,9,10].\n",
    "Hints: Use map() to generate a list. Use lambda to define anonymous functions."
   ]
  },
  {
   "cell_type": "code",
   "execution_count": 70,
   "metadata": {},
   "outputs": [
    {
     "data": {
      "text/plain": [
       "[1, 4, 9, 16, 25, 36, 49, 64, 81, 100]"
      ]
     },
     "execution_count": 70,
     "metadata": {},
     "output_type": "execute_result"
    }
   ],
   "source": [
    "x = list(range(1,11))\n",
    "list(map(lambda i : i ** 2,x))"
   ]
  },
  {
   "cell_type": "raw",
   "metadata": {},
   "source": [
    "47. Write a program which can map() and filter() to make a list whose elements are square of even number in [1,2,3,4,5,6,7,8,9,10].\n",
    "Hints: Use map() to generate a list. Use filter() to filter elements of a list. Use lambda to define anonymous functions."
   ]
  },
  {
   "cell_type": "code",
   "execution_count": 72,
   "metadata": {},
   "outputs": [
    {
     "data": {
      "text/plain": [
       "[4, 16, 36, 64, 100]"
      ]
     },
     "execution_count": 72,
     "metadata": {},
     "output_type": "execute_result"
    }
   ],
   "source": [
    "x = list(range(1,11))\n",
    "list(map(lambda i: i*i,list(filter(lambda i : i % 2 == 0,x))))"
   ]
  },
  {
   "cell_type": "raw",
   "metadata": {},
   "source": [
    "48. Write a program which can filter() to make a list whose elements are even number between 1 and 20 (both included).\n",
    "Hints: Use filter() to filter elements of a list. Use lambda to define anonymous functions."
   ]
  },
  {
   "cell_type": "code",
   "execution_count": 74,
   "metadata": {},
   "outputs": [
    {
     "data": {
      "text/plain": [
       "[2, 4, 6, 8, 10, 12, 14, 16, 18, 20]"
      ]
     },
     "execution_count": 74,
     "metadata": {},
     "output_type": "execute_result"
    }
   ],
   "source": [
    "list(filter(lambda i: i%2 == 0,list(range(1,21))))"
   ]
  },
  {
   "cell_type": "raw",
   "metadata": {},
   "source": [
    "49. Write a program which can map() to make a list whose elements are square of numbers between 1 and 20 (both included).\n",
    "Hints: Use map() to generate a list. Use lambda to define anonymous functions."
   ]
  },
  {
   "cell_type": "code",
   "execution_count": 84,
   "metadata": {},
   "outputs": [
    {
     "data": {
      "text/plain": [
       "[1,\n",
       " 4,\n",
       " 9,\n",
       " 16,\n",
       " 25,\n",
       " 36,\n",
       " 49,\n",
       " 64,\n",
       " 81,\n",
       " 100,\n",
       " 121,\n",
       " 144,\n",
       " 169,\n",
       " 196,\n",
       " 225,\n",
       " 256,\n",
       " 289,\n",
       " 324,\n",
       " 361,\n",
       " 400]"
      ]
     },
     "execution_count": 84,
     "metadata": {},
     "output_type": "execute_result"
    }
   ],
   "source": [
    "list(map(lambda i: i**2,list(range(1,21))))"
   ]
  },
  {
   "cell_type": "raw",
   "metadata": {},
   "source": [
    "50. Define a class named American which has a static method called printNationality.\n",
    "Hints: Use @staticmethod decorator to define class static method."
   ]
  },
  {
   "cell_type": "code",
   "execution_count": 2,
   "metadata": {},
   "outputs": [
    {
     "name": "stdout",
     "output_type": "stream",
     "text": [
      "Hi I'm an Indian\n",
      "Hi I'm an Indian\n"
     ]
    }
   ],
   "source": [
    "class American:\n",
    "    @staticmethod\n",
    "    def printNationality():\n",
    "        print (\"Hi I'm an Indian\")\n",
    "\n",
    "a = American()\n",
    "a.printNationality() #called the method through class instance\n",
    "American.printNationality() #called through a class"
   ]
  },
  {
   "cell_type": "raw",
   "metadata": {
    "collapsed": true
   },
   "source": [
    "51. Define a class named American and its subclass NewYorker.\n",
    "Hints: Use class Subclass(ParentClass) to define a subclass."
   ]
  },
  {
   "cell_type": "code",
   "execution_count": 25,
   "metadata": {},
   "outputs": [
    {
     "name": "stdout",
     "output_type": "stream",
     "text": [
      "Sandeep,You are in Parent class\n",
      "Sandeep,You are in Parent class\n",
      "Rohit,You are in Child class\n",
      "Sandeep,You are in Child class\n"
     ]
    }
   ],
   "source": [
    "class American:\n",
    "    n = 'Sandeep'\n",
    "    def display_parent(self):\n",
    "        print(American.n +','+\"You are in Parent class\")\n",
    "class NewYorker(American):\n",
    "    def display_child(self,name):\n",
    "        self.name = name\n",
    "        print (self.name+','+ \"You are in Child class\")\n",
    "    def display_c(self):\n",
    "        print (self.n+','+ \"You are in Child class\")\n",
    "        \n",
    "\n",
    "a = American()\n",
    "b = NewYorker()\n",
    "a.display_parent() # called display_parent through parent class instance\n",
    "b.display_parent() #called display_parent through child class instance\n",
    "b.display_child(\"Rohit\") \n",
    "b.display_c() #Accessed parent class variables in child class"
   ]
  },
  {
   "cell_type": "raw",
   "metadata": {},
   "source": [
    "52. Define a class named Circle which can be constructed by a radius. The Circle class has a method which can compute the area.\n",
    "Hints: Use def methodName(self) to define a method."
   ]
  },
  {
   "cell_type": "code",
   "execution_count": 27,
   "metadata": {},
   "outputs": [
    {
     "name": "stdout",
     "output_type": "stream",
     "text": [
      "Area = 50.24\n"
     ]
    }
   ],
   "source": [
    "class Circle:\n",
    "    def area(self,r):\n",
    "        self.r = r\n",
    "        print (\"Area of the Circle =\", 3.14*r*r)\n",
    "c = Circle()\n",
    "c.area(4)"
   ]
  },
  {
   "cell_type": "raw",
   "metadata": {},
   "source": [
    "53. Define a class named Rectangle which can be constructed by a length and width. The\n",
    "Rectangle class has a method which can compute the area. Hints: Use def methodName(self) to define a method."
   ]
  },
  {
   "cell_type": "code",
   "execution_count": 29,
   "metadata": {},
   "outputs": [
    {
     "name": "stdout",
     "output_type": "stream",
     "text": [
      "Area of the Rectangle = 6\n"
     ]
    }
   ],
   "source": [
    "class Rectangle:\n",
    "    def area(self,l,b):\n",
    "        self.l = l\n",
    "        self.b = b\n",
    "        print(\"Area of the Rectangle =\", l*b)\n",
    "r = Rectangle()\n",
    "r.area(2,3)"
   ]
  },
  {
   "cell_type": "raw",
   "metadata": {},
   "source": [
    "54. Define a class named Shape and its subclass Square. The Square class has an init function which takes a length as argument. Both classes have a area function which can print the area of the shape where Shape's area is 0 by default.\n",
    "Hints: To override a method in super class, we can define a method with the same name in the super class."
   ]
  },
  {
   "cell_type": "code",
   "execution_count": 39,
   "metadata": {},
   "outputs": [
    {
     "name": "stdout",
     "output_type": "stream",
     "text": [
      "Area =  0\n",
      "Area =  0\n",
      "Area =  4\n"
     ]
    }
   ],
   "source": [
    "class Shape:\n",
    "    def area(self):\n",
    "        print (\"Area = \",0)\n",
    "class Square(Shape):\n",
    "    def __init__(self, l):\n",
    "        self.length = l\n",
    "    def area(self):\n",
    "        super().area()\n",
    "        print (\"Area = \",self.length* self.length)\n",
    "a = Shape()\n",
    "a.area()\n",
    "b = Square(2)\n",
    "b.area()"
   ]
  },
  {
   "cell_type": "raw",
   "metadata": {},
   "source": [
    "55. Write a function to compute 5/0 and use try/except to catch the exceptions.\n",
    "Hints: Use try/except to catch exceptions."
   ]
  },
  {
   "cell_type": "code",
   "execution_count": 59,
   "metadata": {},
   "outputs": [
    {
     "name": "stdout",
     "output_type": "stream",
     "text": [
      "Please enter the numbers: 5,0\n",
      "No number is divisible by 0\n"
     ]
    }
   ],
   "source": [
    "def div():\n",
    "    num1,num2 = list(input(\"Please enter the numbers: \").split(','))\n",
    "    try:\n",
    "        result = int(num1)/int(num2)\n",
    "    except ZeroDivisionError:\n",
    "        print(\"No number is divisible by 0\")\n",
    "    else: \n",
    "        print(\"Result: \",result)\n",
    "div()"
   ]
  },
  {
   "cell_type": "raw",
   "metadata": {},
   "source": [
    "56. Define a custom exception class which takes a string message as attribute.\n",
    "Hints: To define a custom exception, we need to define a class inherited from Exception."
   ]
  },
  {
   "cell_type": "code",
   "execution_count": 70,
   "metadata": {},
   "outputs": [],
   "source": [
    "class customexception(RuntimeError):\n",
    "    def __init__(self, arg):\n",
    "        self.args = arg\n",
    "        \n",
    "\n",
    "try:\n",
    "    e = customexception(\"Bad hostname\")\n",
    "except customexception:\n",
    "    print(e.args)\n"
   ]
  },
  {
   "cell_type": "raw",
   "metadata": {},
   "source": [
    "57. Assuming that we have some email addresses in the \"username@companyname.com\" format, please write program to print the user name of a given email address. Both user names and company names are composed of letters only.\n",
    "If the following email address is given as input to the program: Chandra@analytixlabs.com Then, the output of the program should be: Chandra\n",
    "In case of input data being supplied to the question, it should be assumed to be a console input.\n",
    "Hints: Use \\w to match letters."
   ]
  },
  {
   "cell_type": "code",
   "execution_count": 4,
   "metadata": {},
   "outputs": [
    {
     "name": "stdout",
     "output_type": "stream",
     "text": [
      "Please enter the string: chandra@analytixlabs.com\n",
      "chandra\n"
     ]
    }
   ],
   "source": [
    "import re\n",
    "line = input(\"Please enter the string: \")\n",
    "match = re.match(r'(.*)@(.*)',line,re.I)\n",
    "if match:\n",
    "    print (match.group(1))\n",
    "else:\n",
    "    print (\"No match!!\")"
   ]
  },
  {
   "cell_type": "raw",
   "metadata": {},
   "source": [
    "58. Assuming that we have some email addresses in the \"username@companyname.com\" format, please write program to print the company name of a given email address. Both user names and company names are composed of letters only.\n",
    "If the following email address is given as input to the program: Chandra@analytixlabs.com Then,the output of the program should be: analytixlabs\n",
    "In case of input data being supplied to the question, it should be assumed to be a console input.\n",
    "Hints: Use \\w to match letters"
   ]
  },
  {
   "cell_type": "code",
   "execution_count": 22,
   "metadata": {},
   "outputs": [
    {
     "name": "stdout",
     "output_type": "stream",
     "text": [
      "Please enter the string: sandeep.a.pradhan@outlook.com\n",
      "outlook\n"
     ]
    }
   ],
   "source": [
    "import re\n",
    "line = input(\"Please enter the string: \")\n",
    "match = re.match(r'(.*)@(.*).com',line,re.I)\n",
    "#match = re.search(r'(.*)@outlook.\\w\\w\\w', str) #Gives the same result as above statement\n",
    "if match:\n",
    "    print (match.group(2))\n",
    "else:\n",
    "    print (\"No match!!\")"
   ]
  },
  {
   "cell_type": "raw",
   "metadata": {},
   "source": [
    "59. Write a program which accepts a sequence of words separated by whitespace as input to print the words composed of digits only.\n",
    "If the following words are given as input to the program: 2 cats and 3 dogs.\n",
    "Then,the output of the program should be: ['2','3']\n",
    "In case of input data being supplied to the question, it should be assumed to be a console input.\n",
    "Hints: Use re.findall() to find all substring using regex."
   ]
  },
  {
   "cell_type": "code",
   "execution_count": 31,
   "metadata": {},
   "outputs": [
    {
     "name": "stdout",
     "output_type": "stream",
     "text": [
      "found sandeep.a.pradhan@o\n"
     ]
    }
   ],
   "source": []
  },
  {
   "cell_type": "raw",
   "metadata": {},
   "source": [
    "60. Print a unicode string \"hello world\".\n",
    "Hints: Use u'strings' format to define unicode string."
   ]
  },
  {
   "cell_type": "raw",
   "metadata": {},
   "source": [
    "61. Write a program to read an ASCII string and to convert it to a unicode string encoded by utf-8.\n",
    "Hints: Use unicode() function to convert."
   ]
  },
  {
   "cell_type": "code",
   "execution_count": null,
   "metadata": {
    "collapsed": true
   },
   "outputs": [],
   "source": []
  }
 ],
 "metadata": {
  "kernelspec": {
   "display_name": "Python 3",
   "language": "python",
   "name": "python3"
  },
  "language_info": {
   "codemirror_mode": {
    "name": "ipython",
    "version": 3
   },
   "file_extension": ".py",
   "mimetype": "text/x-python",
   "name": "python",
   "nbconvert_exporter": "python",
   "pygments_lexer": "ipython3",
   "version": "3.6.1"
  }
 },
 "nbformat": 4,
 "nbformat_minor": 2
}
