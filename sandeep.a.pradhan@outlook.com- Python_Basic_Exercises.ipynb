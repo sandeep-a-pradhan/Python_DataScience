{
 "cells": [
  {
   "cell_type": "markdown",
   "metadata": {
    "collapsed": true
   },
   "source": [
    "## Python Exercises"
   ]
  },
  {
   "cell_type": "raw",
   "metadata": {},
   "source": [
    "1. Write a program which will find all such numbers which are divisible by 7 but are not a multiple of 5, between 2000 and 3200 (both included). The numbers obtained should be printed in a comma-separated sequence on a single line.\n",
    "Hints: Consider use range(#begin, #end) method"
   ]
  },
  {
   "cell_type": "code",
   "execution_count": null,
   "metadata": {
    "collapsed": true
   },
   "outputs": [],
   "source": [
    "temp = [] # Create an empty list\n",
    "for x in range(2000,3201): #Iterated with the help of for loop\n",
    "    if (x%7 == 0): #Applied the logic with the help of IF\n",
    "        if (x%5 !=0): #Another nested if\n",
    "            temp.append(x) #Appended the valid items to the list\n",
    "print temp\n"
   ]
  },
  {
   "cell_type": "raw",
   "metadata": {},
   "source": [
    "2. Write a program which can compute the factorial of a given numbers. The results should be printed in a comma-separated sequence on a single line.\n",
    "Suppose the input is supplied to the program: 8\n",
    "Then, the output should be: 40320\n",
    "Hints: In case of input data being supplied to the question, it should be assumed to be a console input."
   ]
  },
  {
   "cell_type": "code",
   "execution_count": null,
   "metadata": {
    "collapsed": true
   },
   "outputs": [],
   "source": [
    "import math\n",
    "num = raw_input(\"Please enter the number: \")\n",
    "print math.factorial(int(num))"
   ]
  },
  {
   "cell_type": "raw",
   "metadata": {},
   "source": [
    "3. With a given integral number n, write a program to generate a dictionary that contains (i, i*i) such that is an integral number between 1 and n (both included) and then the program should print the dictionary.\n",
    "Suppose the input is supplied to the program: 8\n",
    "Then, the output should be: {1: 1, 2: 4, 3: 9, 4: 16, 5: 25, 6: 36, 7: 49, 8: 64}\n",
    "Hints: In case of input data being supplied to the question, it should be assumed to be a console input. Consider use dict()"
   ]
  },
  {
   "cell_type": "code",
   "execution_count": 1,
   "metadata": {},
   "outputs": [
    {
     "name": "stdout",
     "output_type": "stream",
     "text": [
      "Please insert the value:8\n",
      "{'1': 1, '3': 9, '2': 4, '5': 25, '4': 16, '7': 49, '6': 36, '8': 64}\n"
     ]
    }
   ],
   "source": [
    "x = input(\"Please insert the value:\")\n",
    "y = {}\n",
    "i = 0\n",
    "while i < int(x):\n",
    "    i = i +1\n",
    "    y[str(i)] = i * i\n",
    "print y\n",
    "    \n",
    "    "
   ]
  },
  {
   "cell_type": "raw",
   "metadata": {},
   "source": [
    "4. Write a program which accepts a sequence of comma-separated numbers from console and generate a list and a tuple which contains every number. Suppose the input is supplied to the program: 34, 67, 55, 33, 12, 98\n",
    "Then, the output should be:\n",
    "['34', '67', '55', '33', '12', '98']\n",
    "('34', '67', '55', '33', '12', '98')\n",
    "Hints: In case of input data being supplied to the question, it should be assumed to be a console input. tuple() method can convert list to tuple\n"
   ]
  },
  {
   "cell_type": "code",
   "execution_count": 13,
   "metadata": {},
   "outputs": [
    {
     "name": "stdout",
     "output_type": "stream",
     "text": [
      "Please insert comma separated value:34, 67, 55, 33, 12, 98\n",
      "[34, 67, 55, 33, 12, 98]\n",
      "(34, 67, 55, 33, 12, 98)\n"
     ]
    }
   ],
   "source": [
    "ls = []\n",
    "y = input (\"Please insert comma separated value:\")\n",
    "for x in y:\n",
    "    ls.append(x)\n",
    "print ls\n",
    "print tuple(ls)\n",
    "#print tuple"
   ]
  },
  {
   "cell_type": "raw",
   "metadata": {
    "collapsed": true
   },
   "source": [
    "5. Define a class which has at least two methods: getString: to get a string from console input printString: to print the string in upper case."
   ]
  },
  {
   "cell_type": "code",
   "execution_count": 8,
   "metadata": {},
   "outputs": [
    {
     "ename": "IndentationError",
     "evalue": "expected an indented block (<ipython-input-8-fd00024d40dc>, line 4)",
     "output_type": "error",
     "traceback": [
      "\u001b[1;36m  File \u001b[1;32m\"<ipython-input-8-fd00024d40dc>\"\u001b[1;36m, line \u001b[1;32m4\u001b[0m\n\u001b[1;33m    def getstring(self):\u001b[0m\n\u001b[1;37m      ^\u001b[0m\n\u001b[1;31mIndentationError\u001b[0m\u001b[1;31m:\u001b[0m expected an indented block\n"
     ]
    }
   ],
   "source": [
    "class capital:\n",
    "    def __init__(self):\n",
    "        #self.statement = statement\n",
    "    def getstring(self):\n",
    "        self.x = input(\"Please enter some data: \")\n",
    "        print(self.x)\n",
    "        #printstring(self.x)\n",
    "\n",
    "    def printstring(self, x):\n",
    "        print (self.x.upper())\n",
    "        \n",
    "\n",
    "c = capital()\n",
    "c.getstring()\n",
    "        "
   ]
  },
  {
   "cell_type": "code",
   "execution_count": 1,
   "metadata": {},
   "outputs": [
    {
     "name": "stdout",
     "output_type": "stream",
     "text": [
      "100\n",
      "100\n"
     ]
    }
   ],
   "source": [
    "x = input()\n",
    "print (x)"
   ]
  },
  {
   "cell_type": "raw",
   "metadata": {},
   "source": [
    "6. Write a program that calculates and prints the value according to the given formula:\n",
    "Q = Square root of [(2 * C * D)/H]\n",
    "Following are the fixed values of C and H: C is 50. H is 30.\n",
    "D is the variable whose values should be input to your program in a comma-separated\n",
    "sequence.\n",
    "Let us assume the following comma separated input sequence is given to the program:\n",
    "100,150,180\n",
    "The output of the program should be: 18, 22, 24\n",
    "Hints: If the output received is in decimal form, it should be rounded off to its nearest value\n",
    "(for example, if the output received is 26.0, it should be printed as 26)\n",
    "In case of input data being supplied to the question, it should be assumed to be a console\n",
    "input"
   ]
  },
  {
   "cell_type": "code",
   "execution_count": 23,
   "metadata": {},
   "outputs": [
    {
     "name": "stdout",
     "output_type": "stream",
     "text": [
      "Please enter the comma separated value:100,150,180\n",
      "[18.0, 22.0, 24.0]\n"
     ]
    }
   ],
   "source": [
    "import math as m\n",
    "C, H = 50, 30\n",
    "D = input(\"Please enter the comma separated value:\")\n",
    "ls_f = []\n",
    "for l in D:\n",
    "    ls_f.append(round(m.sqrt((2 * C * l)/H)))\n",
    "print ls_f"
   ]
  },
  {
   "cell_type": "raw",
   "metadata": {},
   "source": [
    "7. Write a program which takes 2 digits, X,Y as input and generates a 2-dimensional array.\n",
    "The element value in the i-th row and j-th column of the array should be i*j.\n",
    "Note: i=0,1.., X-1; j=0,1,¡-Y-1.\n",
    "Suppose the following inputs are given to the program: 3, 5\n",
    "Then, the output of the program should be: [[0, 0, 0, 0, 0], [0, 1, 2, 3, 4], [0, 2, 4, 6, 8]]\n",
    "Hints: In case of input data being supplied to the question, it should be assumed to be a\n",
    "console input in a comma-separated form."
   ]
  },
  {
   "cell_type": "code",
   "execution_count": 68,
   "metadata": {},
   "outputs": [
    {
     "name": "stdout",
     "output_type": "stream",
     "text": [
      "Please enter the Rows and Columns:3,5\n",
      "('Output: ', [[0, 0, 0, 0, 0], [0, 1, 2, 3, 4], [0, 2, 4, 6, 8]])\n"
     ]
    }
   ],
   "source": [
    "w, h = input(\"Please enter the Rows and Columns:\")\n",
    "matrix = [[x*y for x in range(h)] for y in range(w)] \n",
    "\n",
    "for x in range(3):\n",
    "    for y in range(5):\n",
    "        matrix[x][y] = x*y\n",
    "print (\"Output: \", matrix)\n",
    "\n",
    "\n"
   ]
  },
  {
   "cell_type": "raw",
   "metadata": {},
   "source": [
    "8. Write a program that accepts a comma separated sequence of words as input and prints the words in a comma-separated sequence after sorting them alphabetically. Suppose the input is supplied to the program: without, hello, bag, world\n",
    "Then, the output should be: bag, hello, without, world\n",
    "Hints: In case of input data being supplied to the question, it should be assumed to be a\n",
    "console input."
   ]
  },
  {
   "cell_type": "code",
   "execution_count": 4,
   "metadata": {},
   "outputs": [
    {
     "name": "stdout",
     "output_type": "stream",
     "text": [
      "Please enter the values: 'without', 'hello', 'bag', 'world'\n",
      "['bag', 'hello', 'without', 'world']\n"
     ]
    }
   ],
   "source": [
    "#'without', 'hello', 'bag', 'world'\n",
    "ls = list(input(\"Please enter the values: \"))\n",
    "ls.sort()\n",
    "print ls"
   ]
  },
  {
   "cell_type": "raw",
   "metadata": {},
   "source": [
    "9. Write a program that accepts sequence of lines as input and prints the lines after making\n",
    "all characters in the sentence capitalized.\n",
    "Suppose the input is supplied to the program: Hello world\n",
    "Practice makes perfect\n",
    "Then, the output should be: HELLO WORLD\n",
    "PRACTICE MAKES PERFECT\n",
    "Hints: In case of input data being supplied to the question, it should be assumed to be a\n",
    "console input.\n"
   ]
  },
  {
   "cell_type": "code",
   "execution_count": null,
   "metadata": {},
   "outputs": [
    {
     "name": "stdout",
     "output_type": "stream",
     "text": [
      "Enter the statement: Sandeep\n",
      "Enter the statement: Pradhan\n",
      "Enter the statement: \n",
      "SANDEEP\n",
      "PRADHAN\n"
     ]
    }
   ],
   "source": [
    "lines = []\n",
    "while True:\n",
    "    l = raw_input(\"Enter the statement: \")\n",
    "    if l:\n",
    "        lines.append(l.upper())\n",
    "    else:\n",
    "        break;\n",
    "\n",
    "for l in lines:\n",
    "    print(l)"
   ]
  },
  {
   "cell_type": "raw",
   "metadata": {},
   "source": [
    "10. Write a program that accepts a sequence of whitespace separated words as input and prints the words after removing all duplicate words and sorting them alphanumerically. Suppose the input is supplied to the program: hello world and practice makes perfect and hello world again\n",
    "Then, the output should be: again and hello makes perfect practice world\n",
    "Hints: In case of input data being supplied to the question, it should be assumed to be a\n",
    "console input. We use set container to remove duplicated data automatically and then use\n",
    "sorted() to sort the data."
   ]
  },
  {
   "cell_type": "code",
   "execution_count": 15,
   "metadata": {},
   "outputs": [
    {
     "name": "stdout",
     "output_type": "stream",
     "text": [
      "hello world and practice makes perfect and hello world again\n",
      "['again', 'and', 'hello', 'makes', 'perfect', 'practice', 'world']\n"
     ]
    }
   ],
   "source": [
    "l = raw_input()\n",
    "ls = list(set(l.split()))\n",
    "ls.sort()\n",
    "print ls"
   ]
  },
  {
   "cell_type": "raw",
   "metadata": {
    "collapsed": true
   },
   "source": [
    "11. Write a program which accepts a sequence of comma separated 4 digit binary numbers\n",
    "as its input and then check whether they are divisible by 5 or not. The numbers that are\n",
    "divisible by 5 are to be printed in a comma separated sequence.\n",
    "Suppose the input is supplied to the program: 0100,0011,1010,1001\n",
    "Then the output should be: 1010\n",
    "Notes: Assume the data is input by console.\n",
    "Hints: In case of input data being supplied to the question, it should be assumed to be a\n",
    "console input."
   ]
  },
  {
   "cell_type": "code",
   "execution_count": 22,
   "metadata": {},
   "outputs": [
    {
     "name": "stdout",
     "output_type": "stream",
     "text": [
      "Please enter 4 digit binary numbers: 0100,0011,1010,1001\n",
      "['1010']\n"
     ]
    }
   ],
   "source": [
    "l = raw_input(\"Please enter 4 digit binary numbers: \")\n",
    "ls = l.split(',')\n",
    "ls_f = []\n",
    "for x in ls:\n",
    "    if (int(x,2) % 5 == 0):\n",
    "        ls_f.append(x)\n",
    "    else:\n",
    "        pass\n",
    "print ls_f\n"
   ]
  },
  {
   "cell_type": "raw",
   "metadata": {},
   "source": [
    "12. Write a program, which will find all such numbers between 1000 and 3000 (both\n",
    "included) such that each digit of the number is an even number.\n",
    "The numbers obtained should be printed in a comma-separated sequence on a single line.\n",
    "Hints: In case of input data being supplied to the question, it should be assumed to be a\n",
    "console input."
   ]
  },
  {
   "cell_type": "code",
   "execution_count": 24,
   "metadata": {},
   "outputs": [
    {
     "name": "stdout",
     "output_type": "stream",
     "text": [
      "Please enter the range value: 1,4\n",
      "(2,)\n"
     ]
    }
   ],
   "source": [
    "a,b = input(\"Please enter the range value: \")\n",
    "ls = []\n",
    "for x in range(a,b):\n",
    "    if (x % 2 == 0):\n",
    "        ls.append(x)\n",
    "    else:\n",
    "        pass\n",
    "print tuple(ls)"
   ]
  },
  {
   "cell_type": "raw",
   "metadata": {},
   "source": [
    "13. Write a program that accepts a sentence and calculate the number of letters and digits.\n",
    "Suppose the input is supplied to the program: hello world! 123\n",
    "Then, the output should be: LETTERS 10\n",
    "DIGITS 3\n",
    "Hints: In case of input data being supplied to the question, it should be assumed to be a\n",
    "console input."
   ]
  },
  {
   "cell_type": "code",
   "execution_count": 26,
   "metadata": {},
   "outputs": [
    {
     "name": "stdout",
     "output_type": "stream",
     "text": [
      "Please enter the string: hello world! 123\n",
      "10 3\n"
     ]
    }
   ],
   "source": [
    "import string as s\n",
    "l = raw_input(\"Please enter the string: \")\n",
    "letter = 0\n",
    "numbers = 0\n",
    "for x in l:\n",
    "    if (x in list(s.ascii_letters)):\n",
    "        letter += 1\n",
    "    elif (x in list(s.digits)):\n",
    "        numbers += 1\n",
    "    else:\n",
    "        pass\n",
    "print letter, numbers"
   ]
  },
  {
   "cell_type": "raw",
   "metadata": {},
   "source": [
    "14. Write a program that accepts a sentence and calculate the number of upper case letters\n",
    "and lower case letters.\n",
    "Suppose the input is supplied to the program: Hello world!\n",
    "Then, the output should be: UPPER CASE 1\n",
    "LOWER CASE 9\n",
    "Hints: In case of input data being supplied to the question, it should be assumed to be a\n",
    "console input."
   ]
  },
  {
   "cell_type": "markdown",
   "metadata": {},
   "source": [
    "help(string) # on Python 3\n",
    "....\n",
    "DATA\n",
    "    ascii_letters = 'abcdefghijklmnopqrstuvwxyzABCDEFGHIJKLMNOPQRSTUVWXYZ'\n",
    "    ascii_lowercase = 'abcdefghijklmnopqrstuvwxyz'\n",
    "    ascii_uppercase = 'ABCDEFGHIJKLMNOPQRSTUVWXYZ'\n",
    "    digits = '0123456789'\n",
    "    hexdigits = '0123456789abcdefABCDEF'\n",
    "    octdigits = '01234567'\n",
    "    printable = '0123456789abcdefghijklmnopqrstuvwxyzABCDEFGHIJKLMNOPQRSTUVWXYZ!\"#$%&\\'()*+,-./:;<=>?@[\\\\]^_`{|}~ \\t\\n\\r\\x0b\\x0c'\n",
    "    punctuation = '!\"#$%&\\'()*+,-./:;<=>?@[\\\\]^_`{|}~'\n",
    "    whitespace = ' \\t\\n\\r\\x0b\\x0c'"
   ]
  },
  {
   "cell_type": "code",
   "execution_count": 29,
   "metadata": {},
   "outputs": [
    {
     "name": "stdout",
     "output_type": "stream",
     "text": [
      "Please enter the string: Hello world!\n",
      "1 9\n"
     ]
    }
   ],
   "source": [
    "import string as s\n",
    "l = raw_input(\"Please enter the string: \")\n",
    "UPPER = 0\n",
    "LOWER = 0\n",
    "for x in l:\n",
    "    if (x in list(s.ascii_uppercase)):\n",
    "        UPPER += 1\n",
    "    elif (x in list(s.ascii_lowercase)):\n",
    "        LOWER += 1\n",
    "    else:\n",
    "        pass\n",
    "print UPPER, LOWER"
   ]
  },
  {
   "cell_type": "raw",
   "metadata": {},
   "source": [
    "15. Write a program that computes the value of a+aa+aaa+aaaa with a given digit as the\n",
    "value of a.\n",
    "Suppose the input is supplied to the program: 9\n",
    "Then, the output should be: 11106\n",
    "Hints: In case of input data being supplied to the question, it should be assumed to be a\n",
    "console input."
   ]
  },
  {
   "cell_type": "code",
   "execution_count": 31,
   "metadata": {},
   "outputs": [
    {
     "name": "stdout",
     "output_type": "stream",
     "text": [
      "Enter the value of a:9\n",
      "11106\n"
     ]
    }
   ],
   "source": [
    "a = raw_input(\"Enter the value of a:\")\n",
    "b = [a,a*2,a*3,a*4]\n",
    "s = 0\n",
    "for c in b:\n",
    "    s += int(c)\n",
    "print s\n"
   ]
  },
  {
   "cell_type": "raw",
   "metadata": {
    "collapsed": true
   },
   "source": [
    "16. Use a list comprehension to square each odd number in a list. The list is input by a sequence of comma-separated numbers.\n",
    "Suppose the input is supplied to the program: 1,2,3,4,5,6,7,8,9\n",
    "Then, the output should be: 1, 3, 5, 7, 9\n",
    "Hints: In case of input data being supplied to the question, it should be assumed to be a console input."
   ]
  },
  {
   "cell_type": "code",
   "execution_count": 2,
   "metadata": {},
   "outputs": [
    {
     "name": "stdout",
     "output_type": "stream",
     "text": [
      "Enter the sequence of numbers: 1,2,3,4,5,6,7,8,9\n",
      "[1, 9, 25, 49, 81]\n"
     ]
    }
   ],
   "source": [
    "x = input(\"Enter the sequence of numbers: \")\n",
    "ls = [a**2 for a in x if a % 2 != 0]\n",
    "print ls\n"
   ]
  },
  {
   "cell_type": "raw",
   "metadata": {},
   "source": [
    "17. Write a program that computes the net amount of a bank account based a transaction log from console input. The transaction log format is shown as following:\n",
    "D 100\n",
    "W 200\n",
    "--D means deposit while W means withdrawal.\n",
    "Suppose the input is supplied to the program:\n",
    "D 300\n",
    "D 300\n",
    "W 200\n",
    "D 100\n",
    "Then, the output should be: 500\n",
    "Hints: In case of input data being supplied to the question, it should be assumed to be a console input."
   ]
  },
  {
   "cell_type": "code",
   "execution_count": null,
   "metadata": {
    "collapsed": true
   },
   "outputs": [],
   "source": [
    "lines = []       \n",
    "while True:\n",
    "    l = raw_input(\"Enter the transaction: \")\n",
    "    if l[0] == 'D':\n",
    "        #lines.append(str(int(l[2:])))\n",
    "        print ('Deposit: ', l[2:])\n",
    "        print lines\n",
    "    elif l[0] == 'W':\n",
    "        #lines.append(str(int(l[2:]) * -1))\n",
    "        print ('Withdraw', l[2:] -1)\n",
    "    else:\n",
    "        #break\n",
    "        print (\"Invalid transaction\")\n",
    "        \n",
    "'''for l in lines:\n",
    "    print l '''           "
   ]
  },
  {
   "cell_type": "raw",
   "metadata": {},
   "source": [
    "18. A website requires the users to input username and password to register. Write a program to check the validity of password input by users.\n",
    "Following are the criteria for checking the password:\n",
    "1. At least 1 letter between [a-z]\n",
    "2. At least 1 number between [0-9]\n",
    "1. At least 1 letter between [A-Z]\n",
    "3. At least 1 character from [$#@]\n",
    "4. Minimum length of transaction password: 6\n",
    "5. Maximum length of transaction password: 12\n",
    "Your program should accept a sequence of comma separated passwords and will check them according to the above criteria. Passwords that match the criteria are to be printed, each separated by a comma.\n",
    "If the following passwords are given as input to the program: ABd1234@1,a F1#,2w3E*,2We3345\n",
    "Then, the output of the program should be: ABd1234@1\n",
    "Hints: In case of input data being supplied to the question, it should be assumed to be a console input."
   ]
  },
  {
   "cell_type": "code",
   "execution_count": null,
   "metadata": {
    "collapsed": true
   },
   "outputs": [],
   "source": [
    "import string as s\n",
    "l = raw_input(\"Please enter the string: \")\n",
    "type(l)\n",
    "ls = []\n",
    "for x in l:\n",
    "    print x\n",
    "    '''if (x in (s.ascii_uppercase)):\n",
    "        ls.append(x)\n",
    "    else:\n",
    "        pass\n",
    "print ls'''"
   ]
  },
  {
   "cell_type": "code",
   "execution_count": 7,
   "metadata": {},
   "outputs": [
    {
     "data": {
      "text/plain": [
       "['$', '#', '@']"
      ]
     },
     "execution_count": 7,
     "metadata": {},
     "output_type": "execute_result"
    }
   ],
   "source": [
    "& x in list(s.digits) & x in ['$','#','@'] & len(x)< 12 & len(x)>= 6"
   ]
  },
  {
   "cell_type": "raw",
   "metadata": {
    "collapsed": true
   },
   "source": [
    "19. You are required to write a program to sort the (name, age, height) tuples by ascending order where name is string, age and height are numbers. The tuples are input by console.\n",
    "The sort criteria is:\n",
    "1: Sort based on name;\n",
    "2: Then sort based on age;\n",
    "3: Then sort by score.\n",
    "The priority is that name > age > score.\n",
    "If the following tuples are given as input to the program:\n",
    "Tom,19,80\n",
    "John,20,90\n",
    "Jony,17,91\n",
    "Jony,17,93\n",
    "Json,21,85\n",
    "Then, the output of the program should be:\n",
    "[('John', '20', '90'), ('Jony', '17', '91'), ('Jony', '17', '93'), ('Json', '21', '85'), ('Tom', '19', '80')]\n",
    "Hints: In case of input data being supplied to the question, it should be assumed to be a\n",
    "console input. We use itemgetter to enable multiple sort keys."
   ]
  },
  {
   "cell_type": "code",
   "execution_count": null,
   "metadata": {
    "collapsed": true
   },
   "outputs": [],
   "source": [
    "from operator import itemgetter, attrgetter, methodcaller\n",
    "lines = []\n",
    "while True:\n",
    "    l = raw_input(\"Enter the name,age,score: \")\n",
    "    if l:\n",
    "        x,y,z = l.split(',')\n",
    "        lines.append((x,y,z))\n",
    "    else:\n",
    "        break\n",
    "print sorted(lines, key = itemgetter(0,1,2))"
   ]
  },
  {
   "cell_type": "raw",
   "metadata": {},
   "source": [
    "20. Define a class with a generator which can iterate the numbers, which are divisible by 7, between a given range 0 and n.\n",
    "Hints: Consider use yield\n"
   ]
  },
  {
   "cell_type": "code",
   "execution_count": null,
   "metadata": {
    "collapsed": true
   },
   "outputs": [],
   "source": [
    "https://stackoverflow.com/questions/231767/what-does-the-yield-keyword-do-in-python"
   ]
  },
  {
   "cell_type": "raw",
   "metadata": {
    "collapsed": true
   },
   "source": [
    "21. 21. A robot moves in a plane starting from the original point (0,0). The robot can move toward UP, DOWN, LEFT and RIGHT with a given steps. The trace of robot movement is shown as the following:\n",
    "UP 5\n",
    "DOWN 3\n",
    "LEFT 3\n",
    "RIGHT 2\n",
    "¡\n",
    "The numbers after the direction are steps. Please write a program to compute the distance from current position after a sequence of movement and original point. If the distance is a float, then just print the nearest integer.\n",
    "If the following tuples are given as input to the program:\n",
    "UP 5\n",
    "DOWN 3\n",
    "LEFT 3\n",
    "RIGHT 2\n",
    "Then, the output of the program should be: 2\n",
    "Hints: In case of input data being supplied to the question, it should be assumed to be a console input."
   ]
  },
  {
   "cell_type": "raw",
   "metadata": {},
   "source": [
    "\n",
    "22. Write a program to compute the frequency of the words from the input. The output should output after sorting the key alphanumerically.\n",
    "Suppose the input is supplied to the program:\n",
    "New to Python or choosing between Python 2 and Python 3? Read Python 2 or Python 3.\n",
    "Then, the output should be:\n",
    "2:2\n",
    "3.:1\n",
    "3?:1\n",
    "New:1\n",
    "Python:5\n",
    "Read:1\n",
    "and:1\n",
    "between:1\n",
    "choosing:1\n",
    "or:2\n",
    "to:1\n",
    "Hints: In case of input data being supplied to the question, it should be assumed to be a console input."
   ]
  },
  {
   "cell_type": "code",
   "execution_count": 20,
   "metadata": {},
   "outputs": [
    {
     "name": "stdout",
     "output_type": "stream",
     "text": [
      "Please enter the sentence: New to Python or choosing between Python 2 and Python 3? Read Python 2 or Python 3.\n",
      "2 : 2\n",
      "3. : 1\n",
      "3? : 1\n",
      "New : 1\n",
      "Python : 5\n",
      "Read : 1\n",
      "and : 1\n",
      "between : 1\n",
      "choosing : 1\n",
      "or : 2\n",
      "to : 1\n"
     ]
    }
   ],
   "source": [
    "x = input(\"Please enter the sentence: \")\n",
    "ls = x.split( )\n",
    "s = list(set(ls))\n",
    "s.sort()\n",
    "for l in s:\n",
    "    print (l,':', ls.count(l) )\n",
    "    \n"
   ]
  },
  {
   "cell_type": "raw",
   "metadata": {},
   "source": [
    "23. Write a method which can calculate square value of number\n",
    "Hints: Using the ** operator"
   ]
  },
  {
   "cell_type": "code",
   "execution_count": 25,
   "metadata": {},
   "outputs": [
    {
     "name": "stdout",
     "output_type": "stream",
     "text": [
      "Please enter the number: 6\n",
      "Square of 6 is 36\n"
     ]
    }
   ],
   "source": [
    "class square_number:\n",
    "    def square_it(self):\n",
    "        self.x = int(input(\"Please enter the number: \"))\n",
    "        print (\"Square of\", self.x ,\"is\", self.x ** 2)\n",
    "\n",
    "s = square_number()\n",
    "s.square_it()"
   ]
  },
  {
   "cell_type": "raw",
   "metadata": {},
   "source": [
    "24. Python has many built-in functions, and if you do not know how to use it, you can read document online or find some books. But Python has a built-in document function for every\n",
    "built-in functions. Please write a program to print some Python built-in functions documents, such as abs(), int(), raw_input() And add document for your own function\n",
    "Hints: The built-in document method is __doc__"
   ]
  },
  {
   "cell_type": "code",
   "execution_count": 41,
   "metadata": {},
   "outputs": [
    {
     "name": "stdout",
     "output_type": "stream",
     "text": [
      "abs()--  Return the absolute value of the argument. /n\n",
      "int()--  int(x=0) -> integer\n",
      "int(x, base=10) -> integer\n",
      "\n",
      "Convert a number or string to an integer, or return 0 if no arguments\n",
      "are given.  If x is a number, return x.__int__().  For floating point\n",
      "numbers, this truncates towards zero.\n",
      "\n",
      "If x is not a number or if base is given, then x must be a string,\n",
      "bytes, or bytearray instance representing an integer literal in the\n",
      "given base.  The literal can be preceded by '+' or '-' and be surrounded\n",
      "by whitespace.  The base defaults to 10.  Valid bases are 0 and 2-36.\n",
      "Base 0 means to interpret the base from the string as an integer literal.\n",
      ">>> int('0b100', base=0)\n",
      "4\n",
      "\n",
      "input()--  Forward raw_input to frontends\n",
      "\n",
      "        Raises\n",
      "        ------\n",
      "        StdinNotImplentedError if active frontend doesn't support stdin.\n",
      "        \n",
      "\n",
      "doc_string-- This is a class which displays the documents for built in built-in functions like abs(), int(), input()\n"
     ]
    }
   ],
   "source": [
    "class doc_string:\n",
    "\n",
    "    'This is a class which displays the documents for built in built-in functions like abs(), int(), input()'\n",
    "    \n",
    "    def documents(self):\n",
    "        print ('abs()-- ', abs.__doc__ , '/n')\n",
    "        print ('int()-- ',int.__doc__ + '\\n')\n",
    "        print ('input()-- ',input.__doc__ + '\\n')\n",
    "        print ('doc_string--', doc_string.__doc__)\n",
    "        \n",
    "d = doc_string()\n",
    "d.documents()"
   ]
  },
  {
   "cell_type": "raw",
   "metadata": {},
   "source": [
    "25. Define a class, which have a class parameter and have a same instance parameter.\n",
    "Hints: Define a instance parameter, need add it in __init__ method\n",
    "You can init a object with construct parameter or set the value later"
   ]
  },
  {
   "cell_type": "code",
   "execution_count": 4,
   "metadata": {},
   "outputs": [
    {
     "name": "stdout",
     "output_type": "stream",
     "text": [
      "The object was intantiated with this name:  Nikhil\n",
      "The object was intantiated with this name:  Sandeep\n"
     ]
    }
   ],
   "source": [
    "class name:\n",
    "    \n",
    "    def __init__(self,name):\n",
    "        self.name = name\n",
    "    def display(self):\n",
    "        print (\"The object was intantiated with this name: \", self.name)\n",
    "        \n",
    "n = name(\"Nikhil\")\n",
    "s = name(\"Sandeep\")\n",
    "n.display()\n",
    "s.display()\n",
    "        "
   ]
  },
  {
   "cell_type": "raw",
   "metadata": {},
   "source": [
    "26. Define a function which can compute the sum of two numbers.\n",
    "Hints: Define a function with two numbers as arguments. You can compute the sum in the function and return the value."
   ]
  },
  {
   "cell_type": "code",
   "execution_count": 17,
   "metadata": {},
   "outputs": [
    {
     "name": "stdout",
     "output_type": "stream",
     "text": [
      "sum:  3\n"
     ]
    }
   ],
   "source": [
    "def sumnum(num1,num2):\n",
    "    #num1,num2 = input(\"Please enter num1,num2: \").split(',')\n",
    "    print (\"sum: \", int(num1)+int(num2))\n",
    "\n",
    "sumnum(1,2)\n",
    "    "
   ]
  },
  {
   "cell_type": "code",
   "execution_count": 18,
   "metadata": {},
   "outputs": [
    {
     "name": "stdout",
     "output_type": "stream",
     "text": [
      "Sum : 3\n"
     ]
    }
   ],
   "source": [
    "class calculate:\n",
    "    def sumnum(self,num1,num2):\n",
    "        self.num1 = num1\n",
    "        self.num2 = num2\n",
    "        print (\"Sum :\", self.num1 + self.num2)\n",
    "\n",
    "c = calculate()\n",
    "c.sumnum(1,2)"
   ]
  },
  {
   "cell_type": "code",
   "execution_count": 19,
   "metadata": {},
   "outputs": [
    {
     "name": "stdout",
     "output_type": "stream",
     "text": [
      "Sum : 3\n"
     ]
    }
   ],
   "source": [
    "class calculate:\n",
    "    def __init__(self,num1,num2):\n",
    "        self.num1 = num1\n",
    "        self.num2 = num2\n",
    "        print (\"Sum :\", self.num1 + self.num2)\n",
    "\n",
    "c = calculate(1,2)\n"
   ]
  },
  {
   "cell_type": "raw",
   "metadata": {},
   "source": [
    "27. Define a function that can convert a integer into a string and print it in console.\n",
    "Hints: Use str() to convert a number to string."
   ]
  },
  {
   "cell_type": "code",
   "execution_count": 20,
   "metadata": {},
   "outputs": [
    {
     "name": "stdout",
     "output_type": "stream",
     "text": [
      "Number converted to string: 5 <class 'str'>\n"
     ]
    }
   ],
   "source": [
    "class conversion:\n",
    "    def __init__(self,num):\n",
    "        self.num = str(num)\n",
    "        print (\"Number converted to string:\", self.num,type(self.num))\n",
    "\n",
    "c = conversion(5)"
   ]
  },
  {
   "cell_type": "raw",
   "metadata": {},
   "source": [
    "28. Define a function that can convert a integer into a string and print it in console.\n",
    "Hints: Use str() to convert a number to string.-- Duplicate question. Same as question 28"
   ]
  },
  {
   "cell_type": "raw",
   "metadata": {},
   "source": [
    "29. Define a function that can receive two integral numbers in string form and compute their sum and then print it in console.\n",
    "Hints: Use int() to convert a string to integer."
   ]
  },
  {
   "cell_type": "code",
   "execution_count": 55,
   "metadata": {},
   "outputs": [
    {
     "name": "stdout",
     "output_type": "stream",
     "text": [
      "Sum of the numbers: 5\n"
     ]
    }
   ],
   "source": [
    "class conversion:\n",
    "    def __init__(self,num1,num2):\n",
    "        self.num1 = int(num1)\n",
    "        self.num2 = int(num2)\n",
    "        print (\"Sum of the numbers:\", self.num1 + self.num2)\n",
    "\n",
    "c = conversion('2','3')"
   ]
  },
  {
   "cell_type": "raw",
   "metadata": {},
   "source": [
    "30. Define a function that can accept two strings as input and concatenate them and then print it in console.\n",
    "Hints: Use + to concatenate the strings"
   ]
  },
  {
   "cell_type": "code",
   "execution_count": 59,
   "metadata": {},
   "outputs": [
    {
     "name": "stdout",
     "output_type": "stream",
     "text": [
      "Concateneted Strings:  Sandeep Pradhan\n"
     ]
    }
   ],
   "source": [
    "class concatenate:\n",
    "    def __init__(self, str1,str2):\n",
    "        self.str1 = str1\n",
    "        self.str2 = str2\n",
    "        print (\"Concateneted Strings: \",str1 + \" \" + str2)\n",
    "\n",
    "c = concatenate('Sandeep', 'Pradhan')"
   ]
  },
  {
   "cell_type": "raw",
   "metadata": {},
   "source": [
    "32. Define a function that can accept an integer number as input and print the \"It is an even number\" if the number is even, otherwise print \"It is an odd number\".\n",
    "Hints: Use % operator to check if a number is even or odd."
   ]
  },
  {
   "cell_type": "code",
   "execution_count": 64,
   "metadata": {},
   "outputs": [
    {
     "name": "stdout",
     "output_type": "stream",
     "text": [
      "4 - It is an even number\n"
     ]
    }
   ],
   "source": [
    "class evenodd:\n",
    "    def __init__(self,num):\n",
    "        self.num = num\n",
    "        if self.num%2 == 0:\n",
    "            print (self.num, \"- It is an even number\")\n",
    "        else:\n",
    "            print (self.num, \"- It is an odd number\")\n",
    "            \n",
    "c = evenodd(4)"
   ]
  },
  {
   "cell_type": "raw",
   "metadata": {},
   "source": [
    "33. Define a function which can print a dictionary where the keys are numbers between 1 and 3 (both included) and the values are square of keys.\n",
    "Hints: Use dict[key]=value pattern to put entry into a dictionary.\n",
    "\n",
    "Use ** operator to get power of a number."
   ]
  },
  {
   "cell_type": "code",
   "execution_count": 70,
   "metadata": {},
   "outputs": [
    {
     "name": "stdout",
     "output_type": "stream",
     "text": [
      "{1: 1, 2: 4, 3: 9}\n"
     ]
    }
   ],
   "source": [
    "def dictsquare():\n",
    "    dict = {}\n",
    "    for i in list(range(1,4)):\n",
    "        dict[i] = i ** 2\n",
    "    print (dict)\n",
    "\n",
    "dictsquare()\n",
    "    "
   ]
  },
  {
   "cell_type": "raw",
   "metadata": {},
   "source": [
    "34. Define a function which can print a dictionary where the keys are numbers between 1 and 20 (both included) and the values are square of keys.\n",
    "Hints: Use dict[key]=value pattern to put entry into a dictionary.\n",
    "Use ** operator to get power of a number. Use range() for loops."
   ]
  },
  {
   "cell_type": "code",
   "execution_count": 71,
   "metadata": {},
   "outputs": [
    {
     "name": "stdout",
     "output_type": "stream",
     "text": [
      "{1: 1, 2: 4, 3: 9, 4: 16, 5: 25, 6: 36, 7: 49, 8: 64, 9: 81, 10: 100, 11: 121, 12: 144, 13: 169, 14: 196, 15: 225, 16: 256, 17: 289, 18: 324, 19: 361, 20: 400}\n",
      "dict_keys([1, 2, 3, 4, 5, 6, 7, 8, 9, 10, 11, 12, 13, 14, 15, 16, 17, 18, 19, 20])\n"
     ]
    }
   ],
   "source": [
    "def dictsquare(num1,num3):\n",
    "    dict = {}\n",
    "    for i in list(range(num1,num3)):\n",
    "        dict[i] = i ** 2\n",
    "    print (dict)\n",
    "    print (dict.keys())\n",
    "\n",
    "dictsquare(1,21)\n",
    "    "
   ]
  },
  {
   "cell_type": "raw",
   "metadata": {},
   "source": [
    "35. Define a function which can generate a dictionary where the keys are numbers between 1 and 20 (both included) and the values are square of keys. The function should just print the values only.\n",
    "Hints: Use dict[key]=value pattern to put entry into a dictionary. Use ** operator to get power of a number. Use range() for loops. Use keys() to iterate keys in the dictionary. Also we can use item() to get key/value pairs."
   ]
  },
  {
   "cell_type": "code",
   "execution_count": 72,
   "metadata": {},
   "outputs": [
    {
     "name": "stdout",
     "output_type": "stream",
     "text": [
      "1\n",
      "4\n",
      "9\n",
      "16\n",
      "25\n",
      "36\n",
      "49\n",
      "64\n",
      "81\n",
      "100\n",
      "121\n",
      "144\n",
      "169\n",
      "196\n",
      "225\n",
      "256\n",
      "289\n",
      "324\n",
      "361\n",
      "400\n"
     ]
    }
   ],
   "source": [
    "def dictsquares(num1,num2):\n",
    "    dict = {}\n",
    "    for i in list(range(num1,num2)):\n",
    "        dict[i] = i ** 2\n",
    "    for item in dict.keys():\n",
    "        print (dict[item])\n",
    "\n",
    "dictsquares(1,21)"
   ]
  },
  {
   "cell_type": "raw",
   "metadata": {},
   "source": [
    "36. Define a function which can generate a dictionary where the keys are numbers between 1 and 20 (both included) and the values are square of keys. The function should just print the keys only.\n",
    "Hints: Use dict[key]=value pattern to put entry into a dictionary. Use ** operator to get power of a number. Use range() for loops. Use keys() to iterate keys in the dictionary. Also we can use item() to get key/value pairs."
   ]
  },
  {
   "cell_type": "code",
   "execution_count": 79,
   "metadata": {},
   "outputs": [
    {
     "name": "stdout",
     "output_type": "stream",
     "text": [
      "{1: 1, 2: 4, 3: 9, 4: 16, 5: 25, 6: 36, 7: 49, 8: 64, 9: 81, 10: 100, 11: 121, 12: 144, 13: 169, 14: 196, 15: 225, 16: 256, 17: 289, 18: 324, 19: 361, 20: 400}\n",
      "dict_keys([1, 2, 3, 4, 5, 6, 7, 8, 9, 10, 11, 12, 13, 14, 15, 16, 17, 18, 19, 20])\n"
     ]
    }
   ],
   "source": [
    "def dictsquares(num1,num2):\n",
    "    dict = {}\n",
    "    for i in list(range(num1,num2)):\n",
    "        dict[i] = i ** 2\n",
    "    for item in dict.keys():\n",
    "        print (item)\n",
    "dictsquare(1,21)"
   ]
  },
  {
   "cell_type": "raw",
   "metadata": {},
   "source": [
    "37. Define a function which can generate and print a list where the values are square of numbers between 1 and 20 (both included).\n",
    "Hints: Use ** operator to get power of a number. Use range() for loops. Use list.append() to add values into a list."
   ]
  },
  {
   "cell_type": "code",
   "execution_count": 81,
   "metadata": {},
   "outputs": [
    {
     "name": "stdout",
     "output_type": "stream",
     "text": [
      "[1, 4, 9, 16, 25, 36, 49, 64, 81, 100, 121, 144, 169, 196, 225, 256, 289, 324, 361, 400]\n"
     ]
    }
   ],
   "source": [
    "def listsquares(num1,num2):\n",
    "    ls = []\n",
    "    for i in list(range(num1,num2)):\n",
    "        ls.append(i**2)\n",
    "    print (ls)\n",
    "    \n",
    "listsquares(1,21)"
   ]
  },
  {
   "cell_type": "raw",
   "metadata": {},
   "source": [
    "38. Define a function which can generate a list where the values are square of numbers between 1 and 20 (both included). Then the function needs to print the first 5 elements in the list.\n",
    "Hints: Use ** operator to get power of a number. Use range() for loops. Use list.append() to add values into a list. Use [n1:n2] to slice a list"
   ]
  },
  {
   "cell_type": "code",
   "execution_count": 25,
   "metadata": {},
   "outputs": [
    {
     "name": "stdout",
     "output_type": "stream",
     "text": [
      "[1, 4, 9, 16, 25]\n"
     ]
    }
   ],
   "source": [
    "def squarenum(num1,num2):\n",
    "    #ls = [(i ** 2) for i in list(range(num1,num2))] #list comprehenion method to perform the below task\n",
    "    ls = []\n",
    "    for i in list(range(num1,num2)):\n",
    "        ls.append(i**2)\n",
    "    print (ls[0:5])\n",
    "\n",
    "squarenum(1,21)"
   ]
  },
  {
   "cell_type": "raw",
   "metadata": {},
   "source": [
    "39. Define a function which can generate a list where the values are square of numbers between 1 and 20 (both included). Then the function needs to print the last 5 elements in\n",
    "the list.\n",
    "Hints: Use ** operator to get power of a number. Use range() for loops. Use list.append() to\n",
    "add values into a list. Use [n1:n2] to slice a list"
   ]
  },
  {
   "cell_type": "code",
   "execution_count": 29,
   "metadata": {},
   "outputs": [
    {
     "name": "stdout",
     "output_type": "stream",
     "text": [
      "[256, 289, 324, 361, 400]\n"
     ]
    }
   ],
   "source": [
    "def squarenum(num1,num2):\n",
    "    ls = []\n",
    "    for i in list(range(num1,num2)):\n",
    "        ls.append(i ** 2)\n",
    "    print (ls[-5:])\n",
    "\n",
    "squarenum(1,21)"
   ]
  },
  {
   "cell_type": "raw",
   "metadata": {},
   "source": [
    "40. Define a function which can generate a list where the values are square of numbers between 1 and 20 (both included). Then the function needs to print all values except the\n",
    "first 5 elements in the list.\n",
    "Hints: Use ** operator to get power of a number. Use range() for loops. Use list.append() to\n",
    "add values into a list. Use [n1:n2] to slice a list"
   ]
  },
  {
   "cell_type": "code",
   "execution_count": 33,
   "metadata": {},
   "outputs": [
    {
     "name": "stdout",
     "output_type": "stream",
     "text": [
      "[36, 49, 64, 81, 100, 121, 144, 169, 196, 225, 256, 289, 324, 361, 400]\n"
     ]
    }
   ],
   "source": [
    "def squarenum(num1,num2):\n",
    "    ls = []\n",
    "    for i in list(range(num1,num2)):\n",
    "        ls.append( i ** 2)\n",
    "    print (ls[5:])\n",
    "\n",
    "squarenum(1,21)"
   ]
  },
  {
   "cell_type": "raw",
   "metadata": {},
   "source": [
    "41. Define a function which can generate and print a tuple where the value are square of numbers between 1 and 20 (both included).\n",
    "Hints: Use ** operator to get power of a number. Use range() for loops. Use list.append() to\n",
    "add values into a list. Use tuple() to get a tuple from a list."
   ]
  },
  {
   "cell_type": "code",
   "execution_count": 35,
   "metadata": {},
   "outputs": [
    {
     "name": "stdout",
     "output_type": "stream",
     "text": [
      "(1, 4, 9, 16, 25, 36, 49, 64, 81, 100, 121, 144, 169, 196, 225, 256, 289, 324, 361, 400)\n"
     ]
    }
   ],
   "source": [
    "def squarenum(num1,num2):\n",
    "    ls = []\n",
    "    for i in list(range(num1,num2)):\n",
    "        ls.append( i ** 2)\n",
    "    print (tuple(ls))\n",
    "\n",
    "squarenum(1,21)"
   ]
  },
  {
   "cell_type": "raw",
   "metadata": {},
   "source": [
    "42. With a given tuple (1,2,3,4,5,6,7,8,9,10), write a program to print the first half values in one line and the last half values in one line.\n",
    "Hints: Use [n1:n2] notation to get a slice from a tuple."
   ]
  },
  {
   "cell_type": "code",
   "execution_count": 51,
   "metadata": {},
   "outputs": [
    {
     "name": "stdout",
     "output_type": "stream",
     "text": [
      "(1, 2, 3, 4, 5) \n",
      " (6, 7, 8, 9, 10)\n"
     ]
    }
   ],
   "source": [
    "x =  (1,2,3,4,5,6,7,8,9,10)\n",
    "\n",
    "print ( x[0:int(len(x)/2)],'\\n',x[int(len(x)/2):])\n"
   ]
  },
  {
   "cell_type": "raw",
   "metadata": {},
   "source": [
    "43. Write a program to generate and print another tuple whose values are even numbers in the given tuple (1,2,3,4,5,6,7,8,9,10).\n",
    "Hints: Use \"for\" to iterate the tuple. Use tuple() to generate a tuple from a list."
   ]
  },
  {
   "cell_type": "code",
   "execution_count": 53,
   "metadata": {},
   "outputs": [
    {
     "name": "stdout",
     "output_type": "stream",
     "text": [
      "(2, 4, 6, 8, 10)\n"
     ]
    }
   ],
   "source": [
    "x = (1,2,3,4,5,6,7,8,9,10)\n",
    "y = []\n",
    "for i in x:\n",
    "    if i%2 == 0:\n",
    "        y.append(i)\n",
    "print(tuple(y))\n",
    "    "
   ]
  },
  {
   "cell_type": "raw",
   "metadata": {},
   "source": [
    "44. Write a program which accepts a string as input to print \"Yes\" if the string is \"yes\" or \"YES\" or \"Yes\", otherwise print \"No\".\n",
    "Hints: Use if statement to judge condition.\n"
   ]
  },
  {
   "cell_type": "code",
   "execution_count": 55,
   "metadata": {},
   "outputs": [
    {
     "name": "stdout",
     "output_type": "stream",
     "text": [
      "Please enter the string: yes\n",
      "Yes\n"
     ]
    }
   ],
   "source": [
    "x = input(\"Please enter the string: \")\n",
    "if (x == \"Yes\" or (x == \"YES\") or (x == \"yes\")):\n",
    "    print(\"Yes\")\n",
    "else:\n",
    "    print (\"No\")"
   ]
  },
  {
   "cell_type": "raw",
   "metadata": {},
   "source": [
    "45. Write a program which can filter even numbers in a list by using filter function. The list\n",
    "is: [1,2,3,4,5,6,7,8,9,10].\n",
    "Hints: use filter() to filter some elements in a list. Use lambda to define anonymous\n",
    "functions."
   ]
  },
  {
   "cell_type": "code",
   "execution_count": 67,
   "metadata": {},
   "outputs": [
    {
     "data": {
      "text/plain": [
       "[2, 4, 6, 8, 10]"
      ]
     },
     "execution_count": 67,
     "metadata": {},
     "output_type": "execute_result"
    }
   ],
   "source": [
    "x = list(range(1,11))\n",
    "list(filter(lambda i: i % 2 == 0, x))"
   ]
  },
  {
   "cell_type": "raw",
   "metadata": {},
   "source": [
    "46. Write a program which can map() to make a list whose elements are square of elementsin [1,2,3,4,5,6,7,8,9,10].\n",
    "Hints: Use map() to generate a list. Use lambda to define anonymous functions."
   ]
  },
  {
   "cell_type": "code",
   "execution_count": 70,
   "metadata": {},
   "outputs": [
    {
     "data": {
      "text/plain": [
       "[1, 4, 9, 16, 25, 36, 49, 64, 81, 100]"
      ]
     },
     "execution_count": 70,
     "metadata": {},
     "output_type": "execute_result"
    }
   ],
   "source": [
    "x = list(range(1,11))\n",
    "list(map(lambda i : i ** 2,x))"
   ]
  },
  {
   "cell_type": "raw",
   "metadata": {},
   "source": [
    "47. Write a program which can map() and filter() to make a list whose elements are square of even number in [1,2,3,4,5,6,7,8,9,10].\n",
    "Hints: Use map() to generate a list. Use filter() to filter elements of a list. Use lambda to define anonymous functions."
   ]
  },
  {
   "cell_type": "code",
   "execution_count": 72,
   "metadata": {},
   "outputs": [
    {
     "data": {
      "text/plain": [
       "[4, 16, 36, 64, 100]"
      ]
     },
     "execution_count": 72,
     "metadata": {},
     "output_type": "execute_result"
    }
   ],
   "source": [
    "x = list(range(1,11))\n",
    "list(map(lambda i: i*i,list(filter(lambda i : i % 2 == 0,x))))"
   ]
  },
  {
   "cell_type": "raw",
   "metadata": {},
   "source": [
    "48. Write a program which can filter() to make a list whose elements are even number between 1 and 20 (both included).\n",
    "Hints: Use filter() to filter elements of a list. Use lambda to define anonymous functions."
   ]
  },
  {
   "cell_type": "code",
   "execution_count": 74,
   "metadata": {},
   "outputs": [
    {
     "data": {
      "text/plain": [
       "[2, 4, 6, 8, 10, 12, 14, 16, 18, 20]"
      ]
     },
     "execution_count": 74,
     "metadata": {},
     "output_type": "execute_result"
    }
   ],
   "source": [
    "list(filter(lambda i: i%2 == 0,list(range(1,21))))"
   ]
  },
  {
   "cell_type": "raw",
   "metadata": {},
   "source": [
    "49. Write a program which can map() to make a list whose elements are square of numbers between 1 and 20 (both included).\n",
    "Hints: Use map() to generate a list. Use lambda to define anonymous functions."
   ]
  },
  {
   "cell_type": "code",
   "execution_count": 84,
   "metadata": {},
   "outputs": [
    {
     "data": {
      "text/plain": [
       "[1,\n",
       " 4,\n",
       " 9,\n",
       " 16,\n",
       " 25,\n",
       " 36,\n",
       " 49,\n",
       " 64,\n",
       " 81,\n",
       " 100,\n",
       " 121,\n",
       " 144,\n",
       " 169,\n",
       " 196,\n",
       " 225,\n",
       " 256,\n",
       " 289,\n",
       " 324,\n",
       " 361,\n",
       " 400]"
      ]
     },
     "execution_count": 84,
     "metadata": {},
     "output_type": "execute_result"
    }
   ],
   "source": [
    "list(map(lambda i: i**2,list(range(1,21))))"
   ]
  },
  {
   "cell_type": "raw",
   "metadata": {},
   "source": [
    "50. Define a class named American which has a static method called printNationality.\n",
    "Hints: Use @staticmethod decorator to define class static method."
   ]
  },
  {
   "cell_type": "code",
   "execution_count": 2,
   "metadata": {},
   "outputs": [
    {
     "name": "stdout",
     "output_type": "stream",
     "text": [
      "Hi I'm an Indian\n",
      "Hi I'm an Indian\n"
     ]
    }
   ],
   "source": [
    "class American:\n",
    "    @staticmethod\n",
    "    def printNationality():\n",
    "        print (\"Hi I'm an Indian\")\n",
    "\n",
    "a = American()\n",
    "a.printNationality() #called the method through class instance\n",
    "American.printNationality() #called through a class"
   ]
  },
  {
   "cell_type": "raw",
   "metadata": {
    "collapsed": true
   },
   "source": [
    "51. Define a class named American and its subclass NewYorker.\n",
    "Hints: Use class Subclass(ParentClass) to define a subclass."
   ]
  },
  {
   "cell_type": "code",
   "execution_count": 25,
   "metadata": {},
   "outputs": [
    {
     "name": "stdout",
     "output_type": "stream",
     "text": [
      "Sandeep,You are in Parent class\n",
      "Sandeep,You are in Parent class\n",
      "Rohit,You are in Child class\n",
      "Sandeep,You are in Child class\n"
     ]
    }
   ],
   "source": [
    "class American:\n",
    "    n = 'Sandeep'\n",
    "    def display_parent(self):\n",
    "        print(American.n +','+\"You are in Parent class\")\n",
    "class NewYorker(American):\n",
    "    def display_child(self,name):\n",
    "        self.name = name\n",
    "        print (self.name+','+ \"You are in Child class\")\n",
    "    def display_c(self):\n",
    "        print (self.n+','+ \"You are in Child class\")\n",
    "        \n",
    "\n",
    "a = American()\n",
    "b = NewYorker()\n",
    "a.display_parent() # called display_parent through parent class instance\n",
    "b.display_parent() #called display_parent through child class instance\n",
    "b.display_child(\"Rohit\") \n",
    "b.display_c() #Accessed parent class variables in child class"
   ]
  },
  {
   "cell_type": "raw",
   "metadata": {},
   "source": [
    "52. Define a class named Circle which can be constructed by a radius. The Circle class has a method which can compute the area.\n",
    "Hints: Use def methodName(self) to define a method."
   ]
  },
  {
   "cell_type": "code",
   "execution_count": 27,
   "metadata": {},
   "outputs": [
    {
     "name": "stdout",
     "output_type": "stream",
     "text": [
      "Area = 50.24\n"
     ]
    }
   ],
   "source": [
    "class Circle:\n",
    "    def area(self,r):\n",
    "        self.r = r\n",
    "        print (\"Area of the Circle =\", 3.14*r*r)\n",
    "c = Circle()\n",
    "c.area(4)"
   ]
  },
  {
   "cell_type": "raw",
   "metadata": {},
   "source": [
    "53. Define a class named Rectangle which can be constructed by a length and width. The\n",
    "Rectangle class has a method which can compute the area. Hints: Use def methodName(self) to define a method."
   ]
  },
  {
   "cell_type": "code",
   "execution_count": 29,
   "metadata": {},
   "outputs": [
    {
     "name": "stdout",
     "output_type": "stream",
     "text": [
      "Area of the Rectangle = 6\n"
     ]
    }
   ],
   "source": [
    "class Rectangle:\n",
    "    def area(self,l,b):\n",
    "        self.l = l\n",
    "        self.b = b\n",
    "        print(\"Area of the Rectangle =\", l*b)\n",
    "r = Rectangle()\n",
    "r.area(2,3)"
   ]
  },
  {
   "cell_type": "raw",
   "metadata": {},
   "source": [
    "54. Define a class named Shape and its subclass Square. The Square class has an init function which takes a length as argument. Both classes have a area function which can print the area of the shape where Shape's area is 0 by default.\n",
    "Hints: To override a method in super class, we can define a method with the same name in the super class."
   ]
  },
  {
   "cell_type": "code",
   "execution_count": 39,
   "metadata": {},
   "outputs": [
    {
     "name": "stdout",
     "output_type": "stream",
     "text": [
      "Area =  0\n",
      "Area =  0\n",
      "Area =  4\n"
     ]
    }
   ],
   "source": [
    "class Shape:\n",
    "    def area(self):\n",
    "        print (\"Area = \",0)\n",
    "class Square(Shape):\n",
    "    def __init__(self, l):\n",
    "        self.length = l\n",
    "    def area(self):\n",
    "        super().area()\n",
    "        print (\"Area = \",self.length* self.length)\n",
    "a = Shape()\n",
    "a.area()\n",
    "b = Square(2)\n",
    "b.area()"
   ]
  },
  {
   "cell_type": "raw",
   "metadata": {},
   "source": [
    "55. Write a function to compute 5/0 and use try/except to catch the exceptions.\n",
    "Hints: Use try/except to catch exceptions."
   ]
  },
  {
   "cell_type": "code",
   "execution_count": 59,
   "metadata": {},
   "outputs": [
    {
     "name": "stdout",
     "output_type": "stream",
     "text": [
      "Please enter the numbers: 5,0\n",
      "No number is divisible by 0\n"
     ]
    }
   ],
   "source": [
    "def div():\n",
    "    num1,num2 = list(input(\"Please enter the numbers: \").split(','))\n",
    "    try:\n",
    "        result = int(num1)/int(num2)\n",
    "    except ZeroDivisionError:\n",
    "        print(\"No number is divisible by 0\")\n",
    "    else: \n",
    "        print(\"Result: \",result)\n",
    "div()"
   ]
  },
  {
   "cell_type": "raw",
   "metadata": {},
   "source": [
    "56. Define a custom exception class which takes a string message as attribute.\n",
    "Hints: To define a custom exception, we need to define a class inherited from Exception."
   ]
  },
  {
   "cell_type": "code",
   "execution_count": 70,
   "metadata": {
    "collapsed": true
   },
   "outputs": [],
   "source": [
    "class customexception(RuntimeError):\n",
    "    def __init__(self, arg):\n",
    "        self.args = arg\n",
    "        \n",
    "\n",
    "try:\n",
    "    e = customexception(\"Bad hostname\")\n",
    "except customexception:\n",
    "    print(e.args)\n"
   ]
  },
  {
   "cell_type": "raw",
   "metadata": {},
   "source": [
    "57. Assuming that we have some email addresses in the \"username@companyname.com\" format, please write program to print the user name of a given email address. Both user names and company names are composed of letters only.\n",
    "If the following email address is given as input to the program: Chandra@analytixlabs.com Then, the output of the program should be: Chandra\n",
    "In case of input data being supplied to the question, it should be assumed to be a console input.\n",
    "Hints: Use \\w to match letters."
   ]
  },
  {
   "cell_type": "code",
   "execution_count": 4,
   "metadata": {},
   "outputs": [
    {
     "name": "stdout",
     "output_type": "stream",
     "text": [
      "Please enter the string: chandra@analytixlabs.com\n",
      "chandra\n"
     ]
    }
   ],
   "source": [
    "import re\n",
    "line = input(\"Please enter the string: \")\n",
    "match = re.match(r'(.*)@(.*)',line,re.I)\n",
    "if match:\n",
    "    print (match.group(1))\n",
    "else:\n",
    "    print (\"No match!!\")"
   ]
  },
  {
   "cell_type": "raw",
   "metadata": {},
   "source": [
    "58. Assuming that we have some email addresses in the \"username@companyname.com\" format, please write program to print the company name of a given email address. Both user names and company names are composed of letters only.\n",
    "If the following email address is given as input to the program: Chandra@analytixlabs.com Then,the output of the program should be: analytixlabs\n",
    "In case of input data being supplied to the question, it should be assumed to be a console input.\n",
    "Hints: Use \\w to match letters"
   ]
  },
  {
   "cell_type": "code",
   "execution_count": 22,
   "metadata": {},
   "outputs": [
    {
     "name": "stdout",
     "output_type": "stream",
     "text": [
      "Please enter the string: sandeep.a.pradhan@outlook.com\n",
      "outlook\n"
     ]
    }
   ],
   "source": [
    "import re\n",
    "line = input(\"Please enter the string: \")\n",
    "match = re.match(r'(.*)@(.*).com',line,re.I)\n",
    "#match = re.search(r'(.*)@outlook.\\w\\w\\w', str) #Gives the same result as above statement\n",
    "if match:\n",
    "    print (match.group(2))\n",
    "else:\n",
    "    print (\"No match!!\")"
   ]
  },
  {
   "cell_type": "raw",
   "metadata": {},
   "source": [
    "59. Write a program which accepts a sequence of words separated by whitespace as input to print the words composed of digits only.\n",
    "If the following words are given as input to the program: 2 cats and 3 dogs.\n",
    "Then,the output of the program should be: ['2','3']\n",
    "In case of input data being supplied to the question, it should be assumed to be a console input.\n",
    "Hints: Use re.findall() to find all substring using regex."
   ]
  },
  {
   "cell_type": "code",
   "execution_count": 31,
   "metadata": {},
   "outputs": [
    {
     "name": "stdout",
     "output_type": "stream",
     "text": [
      "found sandeep.a.pradhan@o\n"
     ]
    }
   ],
   "source": []
  },
  {
   "cell_type": "raw",
   "metadata": {},
   "source": [
    "60. Print a unicode string \"hello world\".\n",
    "Hints: Use u'strings' format to define unicode string."
   ]
  },
  {
   "cell_type": "code",
   "execution_count": 1,
   "metadata": {},
   "outputs": [
    {
     "name": "stdout",
     "output_type": "stream",
     "text": [
      "hello world\n"
     ]
    }
   ],
   "source": [
    "a = u'hello world'\n",
    "print (a)"
   ]
  },
  {
   "cell_type": "raw",
   "metadata": {},
   "source": [
    "61. Write a program to read an ASCII string and to convert it to a unicode string encoded by utf-8.\n",
    "Hints: Use unicode() function to convert."
   ]
  },
  {
   "cell_type": "code",
   "execution_count": 11,
   "metadata": {},
   "outputs": [
    {
     "name": "stdout",
     "output_type": "stream",
     "text": [
      "Enter the ASCII characters: utf\n"
     ]
    },
    {
     "ename": "NameError",
     "evalue": "name 'unicode' is not defined",
     "output_type": "error",
     "traceback": [
      "\u001b[1;31m---------------------------------------------------------------------------\u001b[0m",
      "\u001b[1;31mNameError\u001b[0m                                 Traceback (most recent call last)",
      "\u001b[1;32m<ipython-input-11-eed93606c2a1>\u001b[0m in \u001b[0;36m<module>\u001b[1;34m()\u001b[0m\n\u001b[0;32m      1\u001b[0m \u001b[0ma\u001b[0m \u001b[1;33m=\u001b[0m \u001b[0minput\u001b[0m\u001b[1;33m(\u001b[0m\u001b[1;34m'Enter the ASCII characters: '\u001b[0m\u001b[1;33m)\u001b[0m\u001b[1;33m\u001b[0m\u001b[0m\n\u001b[1;32m----> 2\u001b[1;33m \u001b[0ma\u001b[0m \u001b[1;33m=\u001b[0m \u001b[0municode\u001b[0m\u001b[1;33m(\u001b[0m\u001b[0ma\u001b[0m\u001b[1;33m,\u001b[0m\u001b[1;34m'utf-8'\u001b[0m\u001b[1;33m)\u001b[0m\u001b[1;33m\u001b[0m\u001b[0m\n\u001b[0m\u001b[0;32m      3\u001b[0m \u001b[0mprint\u001b[0m \u001b[1;33m(\u001b[0m\u001b[0ma\u001b[0m\u001b[1;33m)\u001b[0m\u001b[1;33m\u001b[0m\u001b[0m\n",
      "\u001b[1;31mNameError\u001b[0m: name 'unicode' is not defined"
     ]
    }
   ],
   "source": [
    "a = input('Enter the ASCII characters: ')\n",
    "a = unicode(a,'utf-8')\n",
    "print (a)"
   ]
  },
  {
   "cell_type": "raw",
   "metadata": {
    "collapsed": true
   },
   "source": [
    "62. Write a special comment to indicate a Python source code file is in unicode."
   ]
  },
  {
   "cell_type": "raw",
   "metadata": {},
   "source": [
    "63. Write a program to compute 1/2+2/3+3/4+...+n/n+1 with a given n input by console (n>0).\n",
    "If the following n is given as input to the program: 5\n",
    "Then, the output of the program should be: 3.55\n",
    "\n",
    "In case of input data being supplied to the question, it should be assumed to be a console input.\n",
    "Hints: Use float() to convert an integer to a float"
   ]
  },
  {
   "cell_type": "code",
   "execution_count": 26,
   "metadata": {},
   "outputs": [
    {
     "name": "stdout",
     "output_type": "stream",
     "text": [
      "Enter a number: 5\n",
      "3.55\n"
     ]
    }
   ],
   "source": [
    "n = input(\"Enter a number: \")\n",
    "sum = 0\n",
    "for i in range(1,int(n)+1):\n",
    "    sum += i/float(i+1)\n",
    "print(round(sum,2))"
   ]
  },
  {
   "cell_type": "raw",
   "metadata": {},
   "source": [
    "64. Write a program to compute:\n",
    "f(n)=f(n-1)+100 when n>0\n",
    "and f(0)=1\n",
    "with a given n input by console (n>0).\n",
    "If the following n is given as input to the program: 5\n",
    "Then, the output of the program should be: 500\n",
    "In case of input data being supplied to the question, it should be assumed to be a console input.\n",
    "Hints: We can define recursive function in Python."
   ]
  },
  {
   "cell_type": "code",
   "execution_count": 40,
   "metadata": {},
   "outputs": [
    {
     "name": "stdout",
     "output_type": "stream",
     "text": [
      "Enter a number: 5\n",
      "505\n"
     ]
    }
   ],
   "source": [
    "n = input(\"Enter a number: \")\n",
    "f_of_n = 0\n",
    "for i in range(0,int(n)):\n",
    "    f_of_n += (i-1)+100\n",
    "print(f_of_n)"
   ]
  },
  {
   "cell_type": "raw",
   "metadata": {},
   "source": [
    "65. The Fibonacci sequence is computed based on the following formula:\n",
    "f(n)=0 if n=0\n",
    "f(n)=1 if n=1\n",
    "f(n)=f(n-1)+f(n-2) if n>1\n",
    "Please write a program to compute the value of f(n) with a given n input by console.\n",
    "If the following n is given as input to the program: 7\n",
    "Then, the output of the program should be: 13\n",
    "In case of input data being supplied to the question, it should be assumed to be a console input.\n",
    "Hints: We can define recursive function in Python."
   ]
  },
  {
   "cell_type": "raw",
   "metadata": {},
   "source": [
    "66. The Fibonacci sequence is computed based on the following formula:\n",
    "f(n)=0 if n=0\n",
    "f(n)=1 if n=1\n",
    "f(n)=f(n-1)+f(n-2) if n>1\n",
    "Please write a program using list comprehension to print the Fibonacci sequence in comma separated form with a given n input by console.\n",
    "If the following n is given as input to the program: 7\n",
    "Then, the output of the program should be: 0, 1, 1, 2, 3, 5, 8, 13\n",
    "Hints: We can define recursive function in Python. Use list comprehension to generate a list from an existing list. Use string.join() to join a list of strings. In case of input data being supplied to the question, it should be assumed to be a console input."
   ]
  },
  {
   "cell_type": "code",
   "execution_count": null,
   "metadata": {
    "collapsed": true
   },
   "outputs": [],
   "source": []
  },
  {
   "cell_type": "raw",
   "metadata": {},
   "source": [
    "67. Please write a program using generator to print the even numbers between 0 and n in comma separated form while n is input by console.\n",
    "Example: If the following n is given as input to the program: 10\n",
    "Then, the output of the program should be: 0,2,4,6,8,10\n",
    "Hints: Use yield to produce the next value in generator. In case of input data being supplied to the question, it should be assumed to be a console input."
   ]
  },
  {
   "cell_type": "code",
   "execution_count": 12,
   "metadata": {},
   "outputs": [
    {
     "name": "stdout",
     "output_type": "stream",
     "text": [
      "Enter the range: 10\n",
      "10,8,6,4,2,0\n"
     ]
    }
   ],
   "source": [
    "def creategenerator():\n",
    "    n = int(input(\"Enter the range: \"))\n",
    "    i =0\n",
    "    while i<=n:\n",
    "        if (n%2 == 0):\n",
    "            yield n\n",
    "        n -= 1\n",
    "mygenerator = creategenerator()\n",
    "mylist= []\n",
    "for j in mygenerator:\n",
    "    mylist.append(str(j))\n",
    "print(','.join(mylist))"
   ]
  },
  {
   "cell_type": "raw",
   "metadata": {},
   "source": [
    "68. Please write a program using generator to print the numbers which can be divisible by 5 and 7 between 0 and n in comma separated form while n is input by console.\n",
    "If the following n is given as input to the program: 100\n",
    "Then, the output of the program should be: 0, 35, 70\n",
    "Hints: Use yield to produce the next value in generator. In case of input data being supplied to the question, it should be assumed to be a console input."
   ]
  },
  {
   "cell_type": "code",
   "execution_count": 13,
   "metadata": {},
   "outputs": [
    {
     "name": "stdout",
     "output_type": "stream",
     "text": [
      "Enter the range: 100\n",
      "0,35,70\n"
     ]
    }
   ],
   "source": [
    "n = int(input(\"Enter the range: \"))\n",
    "def creategenerator():\n",
    "    mylist = range(n)\n",
    "    for i in mylist:\n",
    "        if ((i%5 == 0) & (i %7 ==0)):\n",
    "            yield i\n",
    "mygenerator = creategenerator()\n",
    "ls = []\n",
    "for j in mygenerator:\n",
    "    ls.append(str(j))\n",
    "print (','.join(ls))"
   ]
  },
  {
   "cell_type": "raw",
   "metadata": {},
   "source": [
    "69. Please write assert statements to verify that every number in the list [2,4,6,8] is even.\n",
    "Hints: Use \"assert expression\" to make assertion."
   ]
  },
  {
   "cell_type": "code",
   "execution_count": 51,
   "metadata": {
    "collapsed": true
   },
   "outputs": [],
   "source": [
    "ls = [2,4,6,8]\n",
    "for i in ls:\n",
    "    assert(i%2 == 0)\n",
    "    print(i ,\"is even\")\n"
   ]
  },
  {
   "cell_type": "raw",
   "metadata": {},
   "source": [
    "70. Please write a program which accepts basic mathematic expression from console and print the evaluation result.\n",
    "If the following string is given as input to the program: 35+3\n",
    "Then, the output of the program should be: 38\n",
    "Hints: Use eval() to evaluate an expression."
   ]
  },
  {
   "cell_type": "code",
   "execution_count": 44,
   "metadata": {},
   "outputs": [
    {
     "name": "stdout",
     "output_type": "stream",
     "text": [
      "Input the literals for evaluation: 32+3\n"
     ]
    },
    {
     "data": {
      "text/plain": [
       "35"
      ]
     },
     "execution_count": 44,
     "metadata": {},
     "output_type": "execute_result"
    }
   ],
   "source": [
    "s = input(\"Input the literals for evaluation: \")\n",
    "eval(s)"
   ]
  },
  {
   "cell_type": "raw",
   "metadata": {},
   "source": [
    "71. Please write a binary search function which searches an item in a sorted list. The function should return the index of element to be searched in the list.\n",
    "Hints: Use if/elif to deal with conditions."
   ]
  },
  {
   "cell_type": "raw",
   "metadata": {},
   "source": [
    "72. Please write a binary search function which searches an item in a sorted list. The function should return the index of element to be searched in the list.\n",
    "Hints: Use if/elif to deal with conditions."
   ]
  },
  {
   "cell_type": "code",
   "execution_count": null,
   "metadata": {
    "collapsed": true
   },
   "outputs": [],
   "source": []
  },
  {
   "cell_type": "raw",
   "metadata": {},
   "source": [
    "73. Please generate a random float where the value is between 10 and 100 using Python math module.\n",
    "Hints: Use random.random() to generate a random float in [0,1]."
   ]
  },
  {
   "cell_type": "code",
   "execution_count": 71,
   "metadata": {},
   "outputs": [
    {
     "data": {
      "text/plain": [
       "87.13788648006599"
      ]
     },
     "execution_count": 71,
     "metadata": {},
     "output_type": "execute_result"
    }
   ],
   "source": [
    "random.random()*100"
   ]
  },
  {
   "cell_type": "raw",
   "metadata": {},
   "source": [
    "74. Please generate a random float where the value is between 5 and 95 using Python math module.\n",
    "Hints: Use random.random() to generate a random float in [0,1]."
   ]
  },
  {
   "cell_type": "code",
   "execution_count": 70,
   "metadata": {},
   "outputs": [
    {
     "data": {
      "text/plain": [
       "25.94565171943806"
      ]
     },
     "execution_count": 70,
     "metadata": {},
     "output_type": "execute_result"
    }
   ],
   "source": [
    "random.random()*100-5"
   ]
  },
  {
   "cell_type": "raw",
   "metadata": {},
   "source": [
    "75. Please write a program to output a random even number between 0 and 10 inclusive using random module and list comprehension.\n",
    "Hints: Use random.choice() to a random element from a list."
   ]
  },
  {
   "cell_type": "code",
   "execution_count": 33,
   "metadata": {},
   "outputs": [
    {
     "data": {
      "text/plain": [
       "8"
      ]
     },
     "execution_count": 33,
     "metadata": {},
     "output_type": "execute_result"
    }
   ],
   "source": [
    "random.choice([i for i in range(11) if (i%2 == 0)])"
   ]
  },
  {
   "cell_type": "raw",
   "metadata": {},
   "source": [
    "76. Please write a program to output a random number, which is divisible by 5 and 7, between 0 and 10 inclusive using random module and list comprehension.\n",
    "Hints: Use random.choice() to a random element from a list."
   ]
  },
  {
   "cell_type": "code",
   "execution_count": 31,
   "metadata": {},
   "outputs": [
    {
     "data": {
      "text/plain": [
       "0"
      ]
     },
     "execution_count": 31,
     "metadata": {},
     "output_type": "execute_result"
    }
   ],
   "source": [
    "random.choice([i for i in range(11) if (i%5 == 0) & (i%7 == 0)])"
   ]
  },
  {
   "cell_type": "raw",
   "metadata": {},
   "source": [
    "77. Please write a program to generate a list with 5 random numbers between 100 and 200 inclusive.\n",
    "Hints: Use random.sample() to generate a list of random values."
   ]
  },
  {
   "cell_type": "code",
   "execution_count": 27,
   "metadata": {},
   "outputs": [
    {
     "data": {
      "text/plain": [
       "[118, 117, 188, 192, 149]"
      ]
     },
     "execution_count": 27,
     "metadata": {},
     "output_type": "execute_result"
    }
   ],
   "source": [
    "random.sample([i for i in range(100,201)],5)"
   ]
  },
  {
   "cell_type": "raw",
   "metadata": {},
   "source": [
    "78. Please write a program to randomly generate a list with 5 even numbers between 100 and 200 inclusive.\n",
    "Hints: Use random.sample() to generate a list of random values."
   ]
  },
  {
   "cell_type": "code",
   "execution_count": 26,
   "metadata": {},
   "outputs": [
    {
     "data": {
      "text/plain": [
       "[184, 138, 108, 162, 110]"
      ]
     },
     "execution_count": 26,
     "metadata": {},
     "output_type": "execute_result"
    }
   ],
   "source": [
    "random.sample([i for i in range(100,201) if i%2==0],5)"
   ]
  },
  {
   "cell_type": "raw",
   "metadata": {},
   "source": [
    "79. Please write a program to randomly generate a list with 5 numbers, which are divisible by 5 and 7 , between 1 and 1000 inclusive.\n",
    "Hints: Use random.sample() to generate a list of random values."
   ]
  },
  {
   "cell_type": "code",
   "execution_count": 19,
   "metadata": {},
   "outputs": [
    {
     "data": {
      "text/plain": [
       "[595, 490, 70, 280, 735]"
      ]
     },
     "execution_count": 19,
     "metadata": {},
     "output_type": "execute_result"
    }
   ],
   "source": [
    "#Achieved by using generator\n",
    "def creategenerator():\n",
    "    mylist = range(1,1001)\n",
    "    for i in mylist:\n",
    "        if ((i%5 == 0) & (i %7 ==0)):\n",
    "            yield i\n",
    "mygenerator = creategenerator()\n",
    "random.sample([i for i in mygenerator],5)\n",
    "#random.sample([i for i in range(1,1001) if i%5==0 and i%7==0] #alternate way to achieve the same result"
   ]
  },
  {
   "cell_type": "raw",
   "metadata": {},
   "source": [
    "80. Please write a program to randomly print a integer number between 7 and 15 inclusive.\n",
    "Hints: Use random.randrange() to a random integer in a given range."
   ]
  },
  {
   "cell_type": "code",
   "execution_count": 72,
   "metadata": {},
   "outputs": [
    {
     "name": "stdout",
     "output_type": "stream",
     "text": [
      "14\n"
     ]
    }
   ],
   "source": [
    "import random\n",
    "print(random.randrange(7,16))"
   ]
  },
  {
   "cell_type": "raw",
   "metadata": {},
   "source": [
    "81. Please write a program to compress and decompress the string \"hello world!hello world!hello world!hello world!\".\n",
    "Hints: Use zlib.compress() and zlib.decompress() to compress and decompress a string."
   ]
  },
  {
   "cell_type": "code",
   "execution_count": 77,
   "metadata": {},
   "outputs": [
    {
     "name": "stdout",
     "output_type": "stream",
     "text": [
      "Compressed:  b'x\\x9c\\xcbH\\xcd\\xc9\\xc9W(\\xcf/\\xcaIQ\\xcc \\x82\\r\\x00\\xbd[\\x11\\xf5'\n",
      "Decompressed:  b'hello world!hello world!hello world!hello world!'\n"
     ]
    }
   ],
   "source": [
    "import zlib\n",
    "s = 'hello world!hello world!hello world!hello world!'\n",
    "t = zlib.compress(s.encode('utf-8'))\n",
    "print (\"Compressed: \",t)\n",
    "print(\"Decompressed: \", zlib.decompress(t))"
   ]
  },
  {
   "cell_type": "raw",
   "metadata": {},
   "source": [
    "82. Please write a program to print the running time of execution of \"1+1\" for 100 times.\n",
    "Hints: Use timeit() function to measure the running time."
   ]
  },
  {
   "cell_type": "code",
   "execution_count": 68,
   "metadata": {},
   "outputs": [
    {
     "name": "stdout",
     "output_type": "stream",
     "text": [
      "2.7028316632092455\n"
     ]
    }
   ],
   "source": [
    "from timeit import Timer\n",
    "t = Timer(\"for i in range(100):1+1\")\n",
    "print (t.timeit())"
   ]
  },
  {
   "cell_type": "raw",
   "metadata": {},
   "source": [
    "83. Please write a program to shuffle and print the list [3,6,7,8].\n",
    "Hints: Use shuffle() function to shuffle a list."
   ]
  },
  {
   "cell_type": "code",
   "execution_count": 63,
   "metadata": {},
   "outputs": [
    {
     "name": "stdout",
     "output_type": "stream",
     "text": [
      "[6, 7, 3, 8]\n"
     ]
    }
   ],
   "source": [
    "from random import shuffle\n",
    "ls = [3,6,7,8]\n",
    "shuffle(ls)\n",
    "print (ls)"
   ]
  },
  {
   "cell_type": "raw",
   "metadata": {},
   "source": [
    "84. Please write a program to shuffle and print the list [3,6,7,8].\n",
    "Hints: Use shuffle() function to shuffle a list."
   ]
  },
  {
   "cell_type": "code",
   "execution_count": 64,
   "metadata": {},
   "outputs": [
    {
     "name": "stdout",
     "output_type": "stream",
     "text": [
      "[3, 8, 7, 6]\n"
     ]
    }
   ],
   "source": [
    "#Same question as above. Random package imported in a different way\n",
    "import random\n",
    "ls = [3,6,7,8]\n",
    "random.shuffle(ls)\n",
    "print (ls)"
   ]
  },
  {
   "cell_type": "raw",
   "metadata": {},
   "source": [
    "85. Please write a program to generate all sentences where subject is in [\"I\", \"You\"] and verb is in [\"Play\", \"Love\"] and the object is in [\"Hockey\",\"Football\"].\n",
    "Hints: Use list[index] notation to get a element from a list."
   ]
  },
  {
   "cell_type": "code",
   "execution_count": 55,
   "metadata": {},
   "outputs": [
    {
     "name": "stdout",
     "output_type": "stream",
     "text": [
      "I Play Hockey.\n",
      "I Play Football.\n",
      "I Love Hockey.\n",
      "I Love Football.\n",
      "You Play Hockey.\n",
      "You Play Football.\n",
      "You Love Hockey.\n",
      "You Love Football.\n"
     ]
    }
   ],
   "source": [
    "subject = [\"I\", \"You\"]\n",
    "verb = [\"Play\", \"Love\"]\n",
    "object = [\"Hockey\",\"Football\"]\n",
    "for s in range(len(subject)):\n",
    "    for v in range(len(verb)):\n",
    "        for o in range(len(object)):\n",
    "            print (\"%s %s %s.\" %(subject[s], verb[v], object[o]))"
   ]
  },
  {
   "cell_type": "raw",
   "metadata": {},
   "source": [
    "86. Please write a program to print the list after removing delete even numbers in [5,6,77,45,22,12,24].\n",
    "Hints: Use list comprehension to delete a bunch of element from a list."
   ]
  },
  {
   "cell_type": "code",
   "execution_count": 34,
   "metadata": {},
   "outputs": [
    {
     "data": {
      "text/plain": [
       "[5, 77, 45]"
      ]
     },
     "execution_count": 34,
     "metadata": {},
     "output_type": "execute_result"
    }
   ],
   "source": [
    "element = [5,6,77,45,22,12,24]\n",
    "[elem for elem in element if elem % 2 != 0] #alternate way"
   ]
  },
  {
   "cell_type": "raw",
   "metadata": {},
   "source": [
    "87. By using list comprehension, please write a program to print the list after removing delete numbers which are divisible by 5 and 7 in [12,24,35,70,88,120,155].\n",
    "Hints: Use list comprehension to delete a bunch of element from a list."
   ]
  },
  {
   "cell_type": "code",
   "execution_count": 50,
   "metadata": {},
   "outputs": [
    {
     "name": "stdout",
     "output_type": "stream",
     "text": [
      "[12, 24, 88, 120, 155]\n",
      "[12, 24, 88]\n"
     ]
    }
   ],
   "source": [
    "elements = [12,24,35,70,88,120,155]\n",
    "print([elem for elem in elements if elem not in [elem for elem in elements if elem % 5 == 0 and elem % 7 == 0]])\n",
    "print ([elem for elem in elements if (elem % 5 != 0) & (elem % 7 != 0)]) #Alternate way"
   ]
  },
  {
   "cell_type": "raw",
   "metadata": {},
   "source": [
    "88. By using list comprehension, please write a program to print the list after removing the 0th, 2nd, 4th,6th numbers in [12,24,35,70,88,120,155].\n",
    "Hints: Use list comprehension to delete a bunch of element from a list. Use enumerate() to get (index, value) tuple."
   ]
  },
  {
   "cell_type": "code",
   "execution_count": 14,
   "metadata": {},
   "outputs": [
    {
     "name": "stdout",
     "output_type": "stream",
     "text": [
      "0 12\n",
      "1 24\n",
      "2 35\n",
      "3 70\n",
      "4 88\n",
      "5 120\n",
      "6 155\n"
     ]
    },
    {
     "data": {
      "text/plain": [
       "[24, 70, 120]"
      ]
     },
     "execution_count": 14,
     "metadata": {},
     "output_type": "execute_result"
    }
   ],
   "source": [
    "element = [12,24,35,70,88,120,155]\n",
    "for count,elem in enumerate(element):\n",
    "    print(count,elem)\n",
    "[elem for count,elem in enumerate(element) if count not in [0,2,4,6]]"
   ]
  },
  {
   "cell_type": "raw",
   "metadata": {},
   "source": [
    "89. By using list comprehension, please write a program generate a 3*5*8 3D array whose each element is 0.\n",
    "Hints: Use list comprehension to make an array."
   ]
  },
  {
   "cell_type": "code",
   "execution_count": 49,
   "metadata": {},
   "outputs": [
    {
     "data": {
      "text/plain": [
       "[[[0, 0, 0, 0, 0, 0, 0, 0],\n",
       "  [0, 0, 0, 0, 0, 0, 0, 0],\n",
       "  [0, 0, 0, 0, 0, 0, 0, 0],\n",
       "  [0, 0, 0, 0, 0, 0, 0, 0],\n",
       "  [0, 0, 0, 0, 0, 0, 0, 0]],\n",
       " [[0, 0, 0, 0, 0, 0, 0, 0],\n",
       "  [0, 0, 0, 0, 0, 0, 0, 0],\n",
       "  [0, 0, 0, 0, 0, 0, 0, 0],\n",
       "  [0, 0, 0, 0, 0, 0, 0, 0],\n",
       "  [0, 0, 0, 0, 0, 0, 0, 0]],\n",
       " [[0, 0, 0, 0, 0, 0, 0, 0],\n",
       "  [0, 0, 0, 0, 0, 0, 0, 0],\n",
       "  [0, 0, 0, 0, 0, 0, 0, 0],\n",
       "  [0, 0, 0, 0, 0, 0, 0, 0],\n",
       "  [0, 0, 0, 0, 0, 0, 0, 0]]]"
      ]
     },
     "execution_count": 49,
     "metadata": {},
     "output_type": "execute_result"
    }
   ],
   "source": [
    "[[[0 for elem in range(8)] for elem in range(5)]for elem in range(3)]"
   ]
  },
  {
   "cell_type": "code",
   "execution_count": 11,
   "metadata": {},
   "outputs": [
    {
     "data": {
      "text/plain": [
       "array([[[ 0.,  0.,  0.,  0.,  0.,  0.,  0.,  0.],\n",
       "        [ 0.,  0.,  0.,  0.,  0.,  0.,  0.,  0.],\n",
       "        [ 0.,  0.,  0.,  0.,  0.,  0.,  0.,  0.],\n",
       "        [ 0.,  0.,  0.,  0.,  0.,  0.,  0.,  0.],\n",
       "        [ 0.,  0.,  0.,  0.,  0.,  0.,  0.,  0.]],\n",
       "\n",
       "       [[ 0.,  0.,  0.,  0.,  0.,  0.,  0.,  0.],\n",
       "        [ 0.,  0.,  0.,  0.,  0.,  0.,  0.,  0.],\n",
       "        [ 0.,  0.,  0.,  0.,  0.,  0.,  0.,  0.],\n",
       "        [ 0.,  0.,  0.,  0.,  0.,  0.,  0.,  0.],\n",
       "        [ 0.,  0.,  0.,  0.,  0.,  0.,  0.,  0.]],\n",
       "\n",
       "       [[ 0.,  0.,  0.,  0.,  0.,  0.,  0.,  0.],\n",
       "        [ 0.,  0.,  0.,  0.,  0.,  0.,  0.,  0.],\n",
       "        [ 0.,  0.,  0.,  0.,  0.,  0.,  0.,  0.],\n",
       "        [ 0.,  0.,  0.,  0.,  0.,  0.,  0.,  0.],\n",
       "        [ 0.,  0.,  0.,  0.,  0.,  0.,  0.,  0.]]])"
      ]
     },
     "execution_count": 11,
     "metadata": {},
     "output_type": "execute_result"
    }
   ],
   "source": [
    "np.zeros((3,5,8))"
   ]
  },
  {
   "cell_type": "raw",
   "metadata": {},
   "source": [
    "90. By using list comprehension, please write a program to print the list after removing the 0th,4th,5th numbers in [12,24,35,70,88,120,155].\n",
    "Hints: Use list comprehension to delete a bunch of element from a list. Use enumerate() to get (index, value) tuple."
   ]
  },
  {
   "cell_type": "code",
   "execution_count": 2,
   "metadata": {},
   "outputs": [
    {
     "name": "stdout",
     "output_type": "stream",
     "text": [
      "0 12\n",
      "1 24\n",
      "2 35\n",
      "3 70\n",
      "4 88\n",
      "5 120\n",
      "6 155\n"
     ]
    },
    {
     "data": {
      "text/plain": [
       "[24, 35, 70, 155]"
      ]
     },
     "execution_count": 2,
     "metadata": {},
     "output_type": "execute_result"
    }
   ],
   "source": [
    "elements = [12,24,35,70,88,120,155]\n",
    "for count,elem in enumerate(elements):\n",
    "    print(count,elem)\n",
    "[elem for count, elem in enumerate(elements) if count not in (0,4,5)]"
   ]
  },
  {
   "cell_type": "raw",
   "metadata": {
    "collapsed": true
   },
   "source": [
    "91. By using list comprehension, please write a program to print the list after removing the value 24 in [12,24,35,24,88,120,155].\n",
    "Hints: Use list's remove method to delete a value."
   ]
  },
  {
   "cell_type": "code",
   "execution_count": null,
   "metadata": {
    "collapsed": true
   },
   "outputs": [],
   "source": []
  },
  {
   "cell_type": "raw",
   "metadata": {},
   "source": [
    "92. With two given lists [1,3,6,78,35,55] and [12,24,35,24,88,120,155], write a program to make a list whose elements are intersection of the above given lists.\n",
    "Hints: Use set() and \"&=\" to do set intersection operation."
   ]
  },
  {
   "cell_type": "raw",
   "metadata": {},
   "source": [
    "93. With a given list [12, 24, 35, 24, 88, 120, 155, 88, 120, 155], write a program to print this list after removing all duplicate values with original order reserved.\n",
    "Hints: Use set() to store a number of values without duplicate."
   ]
  },
  {
   "cell_type": "raw",
   "metadata": {},
   "source": [
    "94. Define a class Person and its two child classes: Male and Female. All classes have a method \"getGender\" which can print \"Male\" for Male class and \"Female\" for Female class.\n",
    "Hints: Use Subclass(Parentclass) to define a child class."
   ]
  },
  {
   "cell_type": "raw",
   "metadata": {},
   "source": [
    "95. Please write a program which count and print the numbers of each character in a string input by console.\n",
    "If the following string is given as input to the program: abcdefgabc\n",
    "Then, the output of the program should be:\n",
    "a,2\n",
    "c,2\n",
    "b,2\n",
    "e,1\n",
    "d,1\n",
    "g,1\n",
    "f,1\n",
    "Hints: Use dict to store key/value pairs. Use dict.get() method to lookup a key with default value."
   ]
  },
  {
   "cell_type": "raw",
   "metadata": {},
   "source": [
    "96 Please write a program which accepts a string from console and print it in reverse order.\n",
    "If the following string is given as input to the program: rise to vote sir\n",
    "Then, the output of the program should be: ris etov ot esir\n",
    "Hints: Use list[::-1] to iterate a list in a reverse order."
   ]
  },
  {
   "cell_type": "raw",
   "metadata": {},
   "source": [
    "97. Please write a program which accepts a string from console and print the characters that have even indexes.\n",
    "If the following string is given as input to the program: H1e2l3l4o5w6o7r8l9d\n",
    "Then, the output of the program should be: Helloworld\n",
    "Hints: Use list[::2] to iterate a list by step 2."
   ]
  },
  {
   "cell_type": "raw",
   "metadata": {},
   "source": [
    "98. Please write a program which prints all permutations of [1, 2, 3]\n",
    "Hints: Use itertools.permutations() to get permutations of list."
   ]
  },
  {
   "cell_type": "raw",
   "metadata": {},
   "source": [
    "99. Write a program to solve a classic ancient Chinese puzzle:\n",
    "We count 35 heads and 94 legs among the chickens and rabbits in a farm. How many rabbits and how many chickens do we have?\n",
    "Hint: Use for loop to iterate all possible solutions"
   ]
  },
  {
   "cell_type": "raw",
   "metadata": {},
   "source": [
    "100. Create a dictionary with phone numbers (phonebook = {“John”: 938477566, \"Jack”: 938377264, \"Jill”: 947662781}). Add \"Jake\" to the phonebook with the phone number 938273443, and remove Jill from the phonebook."
   ]
  },
  {
   "cell_type": "code",
   "execution_count": null,
   "metadata": {
    "collapsed": true
   },
   "outputs": [],
   "source": []
  },
  {
   "cell_type": "code",
   "execution_count": null,
   "metadata": {
    "collapsed": true
   },
   "outputs": [],
   "source": []
  },
  {
   "cell_type": "code",
   "execution_count": null,
   "metadata": {
    "collapsed": true
   },
   "outputs": [],
   "source": []
  },
  {
   "cell_type": "code",
   "execution_count": null,
   "metadata": {
    "collapsed": true
   },
   "outputs": [],
   "source": []
  },
  {
   "cell_type": "code",
   "execution_count": null,
   "metadata": {
    "collapsed": true
   },
   "outputs": [],
   "source": []
  },
  {
   "cell_type": "code",
   "execution_count": null,
   "metadata": {
    "collapsed": true
   },
   "outputs": [],
   "source": []
  }
 ],
 "metadata": {
  "kernelspec": {
   "display_name": "Python 3",
   "language": "python",
   "name": "python3"
  },
  "language_info": {
   "codemirror_mode": {
    "name": "ipython",
    "version": 3
   },
   "file_extension": ".py",
   "mimetype": "text/x-python",
   "name": "python",
   "nbconvert_exporter": "python",
   "pygments_lexer": "ipython3",
   "version": "3.6.1"
  }
 },
 "nbformat": 4,
 "nbformat_minor": 2
}
